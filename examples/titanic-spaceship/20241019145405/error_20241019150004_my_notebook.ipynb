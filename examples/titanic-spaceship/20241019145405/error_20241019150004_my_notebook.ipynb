{
 "cells": [
  {
   "cell_type": "code",
   "execution_count": null,
   "id": "29828b0d",
   "metadata": {},
   "outputs": [],
   "source": [
    "import pandas as pd\n",
    "import numpy as np\n",
    "\n",
    "train_df = pd.read_csv(\"./input/train.csv\")\n",
    "test_df = pd.read_csv(\"./input/test.csv\")"
   ]
  },
  {
   "cell_type": "code",
   "execution_count": null,
   "id": "6b66ac77",
   "metadata": {},
   "outputs": [
    {
     "name": "stdout",
     "output_type": "stream",
     "text": [
      "--- Training Dataset ---\n",
      "Shape: (8693, 14)\n",
      "\n",
      "Data Types:\n",
      " PassengerId      object\n",
      "HomePlanet       object\n",
      "CryoSleep        object\n",
      "Cabin            object\n",
      "Destination      object\n",
      "Age             float64\n",
      "VIP              object\n",
      "RoomService     float64\n",
      "FoodCourt       float64\n",
      "ShoppingMall    float64\n",
      "Spa             float64\n",
      "VRDeck          float64\n",
      "Name             object\n",
      "Transported        bool\n",
      "dtype: object\n",
      "\n",
      "Missing Values:\n",
      " PassengerId       0\n",
      "HomePlanet      201\n",
      "CryoSleep       217\n",
      "Cabin           199\n",
      "Destination     182\n",
      "Age             179\n",
      "VIP             203\n",
      "RoomService     181\n",
      "FoodCourt       183\n",
      "ShoppingMall    208\n",
      "Spa             183\n",
      "VRDeck          188\n",
      "Name            200\n",
      "Transported       0\n",
      "dtype: int64\n",
      "\n",
      "Summary Statistics:\n",
      "        PassengerId HomePlanet CryoSleep    Cabin  Destination          Age  \\\n",
      "count         8693       8492      8476     8494         8511  8514.000000   \n",
      "unique        8693          3         2     6560            3          NaN   \n",
      "top        0001_01      Earth     False  G/734/S  TRAPPIST-1e          NaN   \n",
      "freq             1       4602      5439        8         5915          NaN   \n",
      "mean           NaN        NaN       NaN      NaN          NaN    28.827930   \n",
      "std            NaN        NaN       NaN      NaN          NaN    14.489021   \n",
      "min            NaN        NaN       NaN      NaN          NaN     0.000000   \n",
      "25%            NaN        NaN       NaN      NaN          NaN    19.000000   \n",
      "50%            NaN        NaN       NaN      NaN          NaN    27.000000   \n",
      "75%            NaN        NaN       NaN      NaN          NaN    38.000000   \n",
      "max            NaN        NaN       NaN      NaN          NaN    79.000000   \n",
      "\n",
      "          VIP   RoomService     FoodCourt  ShoppingMall           Spa  \\\n",
      "count    8490   8512.000000   8510.000000   8485.000000   8510.000000   \n",
      "unique      2           NaN           NaN           NaN           NaN   \n",
      "top     False           NaN           NaN           NaN           NaN   \n",
      "freq     8291           NaN           NaN           NaN           NaN   \n",
      "mean      NaN    224.687617    458.077203    173.729169    311.138778   \n",
      "std       NaN    666.717663   1611.489240    604.696458   1136.705535   \n",
      "min       NaN      0.000000      0.000000      0.000000      0.000000   \n",
      "25%       NaN      0.000000      0.000000      0.000000      0.000000   \n",
      "50%       NaN      0.000000      0.000000      0.000000      0.000000   \n",
      "75%       NaN     47.000000     76.000000     27.000000     59.000000   \n",
      "max       NaN  14327.000000  29813.000000  23492.000000  22408.000000   \n",
      "\n",
      "              VRDeck            Name Transported  \n",
      "count    8505.000000            8493        8693  \n",
      "unique           NaN            8473           2  \n",
      "top              NaN  Gollux Reedall        True  \n",
      "freq             NaN               2        4378  \n",
      "mean      304.854791             NaN         NaN  \n",
      "std      1145.717189             NaN         NaN  \n",
      "min         0.000000             NaN         NaN  \n",
      "25%         0.000000             NaN         NaN  \n",
      "50%         0.000000             NaN         NaN  \n",
      "75%        46.000000             NaN         NaN  \n",
      "max     24133.000000             NaN         NaN  \n",
      "\n",
      "First 5 Rows:\n",
      "   PassengerId HomePlanet CryoSleep  Cabin  Destination   Age    VIP  \\\n",
      "0     0001_01     Europa     False  B/0/P  TRAPPIST-1e  39.0  False   \n",
      "1     0002_01      Earth     False  F/0/S  TRAPPIST-1e  24.0  False   \n",
      "2     0003_01     Europa     False  A/0/S  TRAPPIST-1e  58.0   True   \n",
      "3     0003_02     Europa     False  A/0/S  TRAPPIST-1e  33.0  False   \n",
      "4     0004_01      Earth     False  F/1/S  TRAPPIST-1e  16.0  False   \n",
      "\n",
      "   RoomService  FoodCourt  ShoppingMall     Spa  VRDeck               Name  \\\n",
      "0          0.0        0.0           0.0     0.0     0.0    Maham Ofracculy   \n",
      "1        109.0        9.0          25.0   549.0    44.0       Juanna Vines   \n",
      "2         43.0     3576.0           0.0  6715.0    49.0      Altark Susent   \n",
      "3          0.0     1283.0         371.0  3329.0   193.0       Solam Susent   \n",
      "4        303.0       70.0         151.0   565.0     2.0  Willy Santantines   \n",
      "\n",
      "   Transported  \n",
      "0        False  \n",
      "1         True  \n",
      "2        False  \n",
      "3        False  \n",
      "4         True  \n",
      "\n",
      "--------------------------------------------------\n",
      "\n",
      "--- Test Dataset ---\n",
      "Shape: (4277, 13)\n",
      "\n",
      "Data Types:\n",
      " PassengerId      object\n",
      "HomePlanet       object\n",
      "CryoSleep        object\n",
      "Cabin            object\n",
      "Destination      object\n",
      "Age             float64\n",
      "VIP              object\n",
      "RoomService     float64\n",
      "FoodCourt       float64\n",
      "ShoppingMall    float64\n",
      "Spa             float64\n",
      "VRDeck          float64\n",
      "Name             object\n",
      "dtype: object\n",
      "\n",
      "Missing Values:\n",
      " PassengerId       0\n",
      "HomePlanet       87\n",
      "CryoSleep        93\n",
      "Cabin           100\n",
      "Destination      92\n",
      "Age              91\n",
      "VIP              93\n",
      "RoomService      82\n",
      "FoodCourt       106\n",
      "ShoppingMall     98\n",
      "Spa             101\n",
      "VRDeck           80\n",
      "Name             94\n",
      "dtype: int64\n",
      "\n",
      "Summary Statistics:\n",
      "        PassengerId HomePlanet CryoSleep    Cabin  Destination          Age  \\\n",
      "count         4277       4190      4184     4177         4185  4186.000000   \n",
      "unique        4277          3         2     3265            3          NaN   \n",
      "top        0013_01      Earth     False  G/160/P  TRAPPIST-1e          NaN   \n",
      "freq             1       2263      2640        8         2956          NaN   \n",
      "mean           NaN        NaN       NaN      NaN          NaN    28.658146   \n",
      "std            NaN        NaN       NaN      NaN          NaN    14.179072   \n",
      "min            NaN        NaN       NaN      NaN          NaN     0.000000   \n",
      "25%            NaN        NaN       NaN      NaN          NaN    19.000000   \n",
      "50%            NaN        NaN       NaN      NaN          NaN    26.000000   \n",
      "75%            NaN        NaN       NaN      NaN          NaN    37.000000   \n",
      "max            NaN        NaN       NaN      NaN          NaN    79.000000   \n",
      "\n",
      "          VIP   RoomService     FoodCourt  ShoppingMall           Spa  \\\n",
      "count    4184   4195.000000   4171.000000   4179.000000   4176.000000   \n",
      "unique      2           NaN           NaN           NaN           NaN   \n",
      "top     False           NaN           NaN           NaN           NaN   \n",
      "freq     4110           NaN           NaN           NaN           NaN   \n",
      "mean      NaN    219.266269    439.484296    177.295525    303.052443   \n",
      "std       NaN    607.011289   1527.663045    560.821123   1117.186015   \n",
      "min       NaN      0.000000      0.000000      0.000000      0.000000   \n",
      "25%       NaN      0.000000      0.000000      0.000000      0.000000   \n",
      "50%       NaN      0.000000      0.000000      0.000000      0.000000   \n",
      "75%       NaN     53.000000     78.000000     33.000000     50.000000   \n",
      "max       NaN  11567.000000  25273.000000   8292.000000  19844.000000   \n",
      "\n",
      "              VRDeck        Name  \n",
      "count    4197.000000        4183  \n",
      "unique           NaN        4176  \n",
      "top              NaN  Cints Erle  \n",
      "freq             NaN           2  \n",
      "mean      310.710031         NaN  \n",
      "std      1246.994742         NaN  \n",
      "min         0.000000         NaN  \n",
      "25%         0.000000         NaN  \n",
      "50%         0.000000         NaN  \n",
      "75%        36.000000         NaN  \n",
      "max     22272.000000         NaN  \n",
      "\n",
      "First 5 Rows:\n",
      "   PassengerId HomePlanet CryoSleep  Cabin  Destination   Age    VIP  \\\n",
      "0     0013_01      Earth      True  G/3/S  TRAPPIST-1e  27.0  False   \n",
      "1     0018_01      Earth     False  F/4/S  TRAPPIST-1e  19.0  False   \n",
      "2     0019_01     Europa      True  C/0/S  55 Cancri e  31.0  False   \n",
      "3     0021_01     Europa     False  C/1/S  TRAPPIST-1e  38.0  False   \n",
      "4     0023_01      Earth     False  F/5/S  TRAPPIST-1e  20.0  False   \n",
      "\n",
      "   RoomService  FoodCourt  ShoppingMall     Spa  VRDeck              Name  \n",
      "0          0.0        0.0           0.0     0.0     0.0   Nelly Carsoning  \n",
      "1          0.0        9.0           0.0  2823.0     0.0    Lerome Peckers  \n",
      "2          0.0        0.0           0.0     0.0     0.0   Sabih Unhearfus  \n",
      "3          0.0     6652.0           0.0   181.0   585.0  Meratz Caltilter  \n",
      "4         10.0        0.0         635.0     0.0     0.0   Brence Harperez  \n",
      "\n",
      "--------------------------------------------------\n",
      "\n"
     ]
    }
   ],
   "source": [
    "# %%\n",
    "\n",
    "import pandas as pd\n",
    "import numpy as np\n",
    "\n",
    "# Load the datasets\n",
    "train_df = pd.read_csv(\"./input/train.csv\")\n",
    "test_df = pd.read_csv(\"./input/test.csv\")\n",
    "\n",
    "\n",
    "# Function to perform initial data exploration\n",
    "def initial_data_exploration(df, dataset_name):\n",
    "    print(f\"--- {dataset_name} Dataset ---\")\n",
    "    print(\"Shape:\", df.shape)\n",
    "    print(\"\\nData Types:\\n\", df.dtypes)\n",
    "    print(\"\\nMissing Values:\\n\", df.isnull().sum())\n",
    "    print(\"\\nSummary Statistics:\\n\", df.describe(include=\"all\"))\n",
    "    print(\"\\nFirst 5 Rows:\\n\", df.head())\n",
    "    print(\"\\n\" + \"-\" * 50 + \"\\n\")\n",
    "\n",
    "\n",
    "# Explore the training and test datasets\n",
    "initial_data_exploration(train_df, \"Training\")\n",
    "initial_data_exploration(test_df, \"Test\")"
   ]
  },
  {
   "cell_type": "code",
   "execution_count": null,
   "id": "1037b92e",
   "metadata": {},
   "outputs": [
    {
     "name": "stdout",
     "output_type": "stream",
     "text": [
      "--- Training Dataset ---\n",
      "Shape: (8693, 14)\n",
      "\n",
      "Data Types:\n",
      " PassengerId      object\n",
      "HomePlanet       object\n",
      "CryoSleep        object\n",
      "Cabin            object\n",
      "Destination      object\n",
      "Age             float64\n",
      "VIP              object\n",
      "RoomService     float64\n",
      "FoodCourt       float64\n",
      "ShoppingMall    float64\n",
      "Spa             float64\n",
      "VRDeck          float64\n",
      "Name             object\n",
      "Transported        bool\n",
      "dtype: object\n",
      "\n",
      "Missing Values:\n",
      " PassengerId       0\n",
      "HomePlanet      201\n",
      "CryoSleep       217\n",
      "Cabin           199\n",
      "Destination     182\n",
      "Age             179\n",
      "VIP             203\n",
      "RoomService     181\n",
      "FoodCourt       183\n",
      "ShoppingMall    208\n",
      "Spa             183\n",
      "VRDeck          188\n",
      "Name            200\n",
      "Transported       0\n",
      "dtype: int64\n",
      "\n",
      "Summary Statistics:\n",
      "        PassengerId HomePlanet CryoSleep    Cabin  Destination          Age  \\\n",
      "count         8693       8492      8476     8494         8511  8514.000000   \n",
      "unique        8693          3         2     6560            3          NaN   \n",
      "top        0001_01      Earth     False  G/734/S  TRAPPIST-1e          NaN   \n",
      "freq             1       4602      5439        8         5915          NaN   \n",
      "mean           NaN        NaN       NaN      NaN          NaN    28.827930   \n",
      "std            NaN        NaN       NaN      NaN          NaN    14.489021   \n",
      "min            NaN        NaN       NaN      NaN          NaN     0.000000   \n",
      "25%            NaN        NaN       NaN      NaN          NaN    19.000000   \n",
      "50%            NaN        NaN       NaN      NaN          NaN    27.000000   \n",
      "75%            NaN        NaN       NaN      NaN          NaN    38.000000   \n",
      "max            NaN        NaN       NaN      NaN          NaN    79.000000   \n",
      "\n",
      "          VIP   RoomService     FoodCourt  ShoppingMall           Spa  \\\n",
      "count    8490   8512.000000   8510.000000   8485.000000   8510.000000   \n",
      "unique      2           NaN           NaN           NaN           NaN   \n",
      "top     False           NaN           NaN           NaN           NaN   \n",
      "freq     8291           NaN           NaN           NaN           NaN   \n",
      "mean      NaN    224.687617    458.077203    173.729169    311.138778   \n",
      "std       NaN    666.717663   1611.489240    604.696458   1136.705535   \n",
      "min       NaN      0.000000      0.000000      0.000000      0.000000   \n",
      "25%       NaN      0.000000      0.000000      0.000000      0.000000   \n",
      "50%       NaN      0.000000      0.000000      0.000000      0.000000   \n",
      "75%       NaN     47.000000     76.000000     27.000000     59.000000   \n",
      "max       NaN  14327.000000  29813.000000  23492.000000  22408.000000   \n",
      "\n",
      "              VRDeck            Name Transported  \n",
      "count    8505.000000            8493        8693  \n",
      "unique           NaN            8473           2  \n",
      "top              NaN  Gollux Reedall        True  \n",
      "freq             NaN               2        4378  \n",
      "mean      304.854791             NaN         NaN  \n",
      "std      1145.717189             NaN         NaN  \n",
      "min         0.000000             NaN         NaN  \n",
      "25%         0.000000             NaN         NaN  \n",
      "50%         0.000000             NaN         NaN  \n",
      "75%        46.000000             NaN         NaN  \n",
      "max     24133.000000             NaN         NaN  \n",
      "\n",
      "First 5 Rows:\n",
      "   PassengerId HomePlanet CryoSleep  Cabin  Destination   Age    VIP  \\\n",
      "0     0001_01     Europa     False  B/0/P  TRAPPIST-1e  39.0  False   \n",
      "1     0002_01      Earth     False  F/0/S  TRAPPIST-1e  24.0  False   \n",
      "2     0003_01     Europa     False  A/0/S  TRAPPIST-1e  58.0   True   \n",
      "3     0003_02     Europa     False  A/0/S  TRAPPIST-1e  33.0  False   \n",
      "4     0004_01      Earth     False  F/1/S  TRAPPIST-1e  16.0  False   \n",
      "\n",
      "   RoomService  FoodCourt  ShoppingMall     Spa  VRDeck               Name  \\\n",
      "0          0.0        0.0           0.0     0.0     0.0    Maham Ofracculy   \n",
      "1        109.0        9.0          25.0   549.0    44.0       Juanna Vines   \n",
      "2         43.0     3576.0           0.0  6715.0    49.0      Altark Susent   \n",
      "3          0.0     1283.0         371.0  3329.0   193.0       Solam Susent   \n",
      "4        303.0       70.0         151.0   565.0     2.0  Willy Santantines   \n",
      "\n",
      "   Transported  \n",
      "0        False  \n",
      "1         True  \n",
      "2        False  \n",
      "3        False  \n",
      "4         True  \n",
      "\n",
      "--------------------------------------------------\n",
      "\n",
      "--- Test Dataset ---\n",
      "Shape: (4277, 13)\n",
      "\n",
      "Data Types:\n",
      " PassengerId      object\n",
      "HomePlanet       object\n",
      "CryoSleep        object\n",
      "Cabin            object\n",
      "Destination      object\n",
      "Age             float64\n",
      "VIP              object\n",
      "RoomService     float64\n",
      "FoodCourt       float64\n",
      "ShoppingMall    float64\n",
      "Spa             float64\n",
      "VRDeck          float64\n",
      "Name             object\n",
      "dtype: object\n",
      "\n",
      "Missing Values:\n",
      " PassengerId       0\n",
      "HomePlanet       87\n",
      "CryoSleep        93\n",
      "Cabin           100\n",
      "Destination      92\n",
      "Age              91\n",
      "VIP              93\n",
      "RoomService      82\n",
      "FoodCourt       106\n",
      "ShoppingMall     98\n",
      "Spa             101\n",
      "VRDeck           80\n",
      "Name             94\n",
      "dtype: int64\n",
      "\n",
      "Summary Statistics:\n",
      "        PassengerId HomePlanet CryoSleep    Cabin  Destination          Age  \\\n",
      "count         4277       4190      4184     4177         4185  4186.000000   \n",
      "unique        4277          3         2     3265            3          NaN   \n",
      "top        0013_01      Earth     False  G/160/P  TRAPPIST-1e          NaN   \n",
      "freq             1       2263      2640        8         2956          NaN   \n",
      "mean           NaN        NaN       NaN      NaN          NaN    28.658146   \n",
      "std            NaN        NaN       NaN      NaN          NaN    14.179072   \n",
      "min            NaN        NaN       NaN      NaN          NaN     0.000000   \n",
      "25%            NaN        NaN       NaN      NaN          NaN    19.000000   \n",
      "50%            NaN        NaN       NaN      NaN          NaN    26.000000   \n",
      "75%            NaN        NaN       NaN      NaN          NaN    37.000000   \n",
      "max            NaN        NaN       NaN      NaN          NaN    79.000000   \n",
      "\n",
      "          VIP   RoomService     FoodCourt  ShoppingMall           Spa  \\\n",
      "count    4184   4195.000000   4171.000000   4179.000000   4176.000000   \n",
      "unique      2           NaN           NaN           NaN           NaN   \n",
      "top     False           NaN           NaN           NaN           NaN   \n",
      "freq     4110           NaN           NaN           NaN           NaN   \n",
      "mean      NaN    219.266269    439.484296    177.295525    303.052443   \n",
      "std       NaN    607.011289   1527.663045    560.821123   1117.186015   \n",
      "min       NaN      0.000000      0.000000      0.000000      0.000000   \n",
      "25%       NaN      0.000000      0.000000      0.000000      0.000000   \n",
      "50%       NaN      0.000000      0.000000      0.000000      0.000000   \n",
      "75%       NaN     53.000000     78.000000     33.000000     50.000000   \n",
      "max       NaN  11567.000000  25273.000000   8292.000000  19844.000000   \n",
      "\n",
      "              VRDeck        Name  \n",
      "count    4197.000000        4183  \n",
      "unique           NaN        4176  \n",
      "top              NaN  Cints Erle  \n",
      "freq             NaN           2  \n",
      "mean      310.710031         NaN  \n",
      "std      1246.994742         NaN  \n",
      "min         0.000000         NaN  \n",
      "25%         0.000000         NaN  \n",
      "50%         0.000000         NaN  \n",
      "75%        36.000000         NaN  \n",
      "max     22272.000000         NaN  \n",
      "\n",
      "First 5 Rows:\n",
      "   PassengerId HomePlanet CryoSleep  Cabin  Destination   Age    VIP  \\\n",
      "0     0013_01      Earth      True  G/3/S  TRAPPIST-1e  27.0  False   \n",
      "1     0018_01      Earth     False  F/4/S  TRAPPIST-1e  19.0  False   \n",
      "2     0019_01     Europa      True  C/0/S  55 Cancri e  31.0  False   \n",
      "3     0021_01     Europa     False  C/1/S  TRAPPIST-1e  38.0  False   \n",
      "4     0023_01      Earth     False  F/5/S  TRAPPIST-1e  20.0  False   \n",
      "\n",
      "   RoomService  FoodCourt  ShoppingMall     Spa  VRDeck              Name  \n",
      "0          0.0        0.0           0.0     0.0     0.0   Nelly Carsoning  \n",
      "1          0.0        9.0           0.0  2823.0     0.0    Lerome Peckers  \n",
      "2          0.0        0.0           0.0     0.0     0.0   Sabih Unhearfus  \n",
      "3          0.0     6652.0           0.0   181.0   585.0  Meratz Caltilter  \n",
      "4         10.0        0.0         635.0     0.0     0.0   Brence Harperez  \n",
      "\n",
      "--------------------------------------------------\n",
      "\n"
     ]
    }
   ],
   "source": [
    "import pandas as pd\n",
    "import numpy as np\n",
    "import matplotlib.pyplot as plt\n",
    "import seaborn as sns\n",
    "\n",
    "# Load the datasets\n",
    "train_df = pd.read_csv(\"./input/train.csv\")\n",
    "test_df = pd.read_csv(\"./input/test.csv\")\n",
    "\n",
    "\n",
    "# Function to perform initial data exploration\n",
    "def initial_data_exploration(df, dataset_name):\n",
    "    print(f\"--- {dataset_name} Dataset ---\")\n",
    "    print(\"Shape:\", df.shape)\n",
    "    print(\"\\nData Types:\\n\", df.dtypes)\n",
    "    print(\"\\nMissing Values:\\n\", df.isnull().sum())\n",
    "    print(\"\\nSummary Statistics:\\n\", df.describe(include=\"all\"))\n",
    "    print(\"\\nFirst 5 Rows:\\n\", df.head())\n",
    "    print(\"\\n\" + \"-\" * 50 + \"\\n\")\n",
    "\n",
    "\n",
    "# Function to visualize missing values\n",
    "def visualize_missing_values(df, dataset_name):\n",
    "    plt.figure(figsize=(12, 6))\n",
    "    sns.heatmap(df.isnull(), cbar=False, cmap=\"viridis\")\n",
    "    plt.title(f\"Missing Values in {dataset_name} Dataset\")\n",
    "    plt.xlabel(\"Features\")\n",
    "    plt.ylabel(\"Rows\")\n",
    "    plt.show()\n",
    "\n",
    "\n",
    "# Explore the training and test datasets\n",
    "initial_data_exploration(train_df, \"Training\")\n",
    "initial_data_exploration(test_df, \"Test\")\n",
    "\n",
    "# Visualize missing values\n",
    "visualize_missing_values(train_df, \"Training\")\n",
    "visualize_missing_values(test_df, \"Test\")"
   ]
  },
  {
   "cell_type": "code",
   "execution_count": null,
   "id": "2034bba3",
   "metadata": {},
   "outputs": [
    {
     "name": "stdout",
     "output_type": "stream",
     "text": [
      "Processed Training Data Shape: (8693, 6576)\n",
      "Processed Test Data Shape: (4277, 6576)\n"
     ]
    }
   ],
   "source": [
    "import pandas as pd\n",
    "import numpy as np\n",
    "from sklearn.impute import SimpleImputer\n",
    "from sklearn.preprocessing import OneHotEncoder, StandardScaler\n",
    "from sklearn.compose import ColumnTransformer\n",
    "from sklearn.pipeline import Pipeline\n",
    "\n",
    "# Load the datasets\n",
    "train_df = pd.read_csv(\"./input/train.csv\")\n",
    "test_df = pd.read_csv(\"./input/test.csv\")\n",
    "\n",
    "# Define the target variable and features\n",
    "target = \"Transported\"\n",
    "features = train_df.columns.drop([target, \"PassengerId\", \"Name\"])\n",
    "\n",
    "# Identify categorical and numerical columns\n",
    "categorical_cols = [\"HomePlanet\", \"CryoSleep\", \"Cabin\", \"Destination\", \"VIP\"]\n",
    "numerical_cols = [\"Age\", \"RoomService\", \"FoodCourt\", \"ShoppingMall\", \"Spa\", \"VRDeck\"]\n",
    "\n",
    "# Preprocessing pipeline\n",
    "preprocessor = ColumnTransformer(\n",
    "    transformers=[\n",
    "        (\n",
    "            \"num\",\n",
    "            Pipeline(\n",
    "                steps=[\n",
    "                    (\"imputer\", SimpleImputer(strategy=\"mean\")),\n",
    "                    (\"scaler\", StandardScaler()),\n",
    "                ]\n",
    "            ),\n",
    "            numerical_cols,\n",
    "        ),\n",
    "        (\n",
    "            \"cat\",\n",
    "            Pipeline(\n",
    "                steps=[\n",
    "                    (\"imputer\", SimpleImputer(strategy=\"most_frequent\")),\n",
    "                    (\"encoder\", OneHotEncoder(handle_unknown=\"ignore\")),\n",
    "                ]\n",
    "            ),\n",
    "            categorical_cols,\n",
    "        ),\n",
    "    ]\n",
    ")\n",
    "\n",
    "# Fit and transform the training data\n",
    "X_train = preprocessor.fit_transform(train_df[features])\n",
    "y_train = train_df[target]\n",
    "\n",
    "# Transform the test data\n",
    "X_test = preprocessor.transform(test_df[features])\n",
    "\n",
    "# Display the shapes of the processed data\n",
    "print(\"Processed Training Data Shape:\", X_train.shape)\n",
    "print(\"Processed Test Data Shape:\", X_test.shape)"
   ]
  },
  {
   "cell_type": "code",
   "execution_count": null,
   "id": "2dfd6cdf",
   "metadata": {},
   "outputs": [
    {
     "name": "stdout",
     "output_type": "stream",
     "text": [
      "Validation Accuracy: 0.7849338700402531\n"
     ]
    }
   ],
   "source": [
    "# %%\n",
    "\n",
    "import pandas as pd\n",
    "import numpy as np\n",
    "from sklearn.impute import SimpleImputer\n",
    "from sklearn.preprocessing import OneHotEncoder, StandardScaler\n",
    "from sklearn.compose import ColumnTransformer\n",
    "from sklearn.pipeline import Pipeline\n",
    "from sklearn.model_selection import train_test_split\n",
    "from sklearn.ensemble import RandomForestClassifier\n",
    "from sklearn.metrics import accuracy_score\n",
    "\n",
    "# Load the datasets\n",
    "train_df = pd.read_csv(\"./input/train.csv\")\n",
    "test_df = pd.read_csv(\"./input/test.csv\")\n",
    "\n",
    "# Define the target variable and features\n",
    "target = \"Transported\"\n",
    "features = train_df.columns.drop([target, \"PassengerId\", \"Name\"])\n",
    "\n",
    "# Identify categorical and numerical columns\n",
    "categorical_cols = [\"HomePlanet\", \"CryoSleep\", \"Cabin\", \"Destination\", \"VIP\"]\n",
    "numerical_cols = [\"Age\", \"RoomService\", \"FoodCourt\", \"ShoppingMall\", \"Spa\", \"VRDeck\"]\n",
    "\n",
    "# Preprocessing pipeline\n",
    "preprocessor = ColumnTransformer(\n",
    "    transformers=[\n",
    "        (\n",
    "            \"num\",\n",
    "            Pipeline(\n",
    "                steps=[\n",
    "                    (\"imputer\", SimpleImputer(strategy=\"mean\")),\n",
    "                    (\"scaler\", StandardScaler()),\n",
    "                ]\n",
    "            ),\n",
    "            numerical_cols,\n",
    "        ),\n",
    "        (\n",
    "            \"cat\",\n",
    "            Pipeline(\n",
    "                steps=[\n",
    "                    (\"imputer\", SimpleImputer(strategy=\"most_frequent\")),\n",
    "                    (\"encoder\", OneHotEncoder(handle_unknown=\"ignore\")),\n",
    "                ]\n",
    "            ),\n",
    "            categorical_cols,\n",
    "        ),\n",
    "    ]\n",
    ")\n",
    "\n",
    "# Split the data into training and validation sets\n",
    "X = preprocessor.fit_transform(train_df[features])\n",
    "y = train_df[target]\n",
    "X_train, X_val, y_train, y_val = train_test_split(X, y, test_size=0.2, random_state=42)\n",
    "\n",
    "# Train a Random Forest Classifier\n",
    "model = RandomForestClassifier(random_state=42)\n",
    "model.fit(X_train, y_train)\n",
    "\n",
    "# Make predictions on the validation set\n",
    "y_pred = model.predict(X_val)\n",
    "\n",
    "# Evaluate the model\n",
    "accuracy = accuracy_score(y_val, y_pred)\n",
    "print(\"Validation Accuracy:\", accuracy)\n",
    "\n",
    "# Transform the test data\n",
    "X_test = preprocessor.transform(test_df[features])\n",
    "\n",
    "# Make predictions on the test set\n",
    "test_predictions = model.predict(X_test)\n",
    "\n",
    "# Prepare submission DataFrame\n",
    "submission_df = pd.DataFrame(\n",
    "    {\"PassengerId\": test_df[\"PassengerId\"], \"Transported\": test_predictions}\n",
    ")\n",
    "\n",
    "# Save the submission file\n",
    "submission_df.to_csv(\"submission.csv\", index=False)\n",
    "\n",
    "# %%"
   ]
  },
  {
   "cell_type": "code",
   "execution_count": null,
   "id": "c66081ba",
   "metadata": {},
   "outputs": [
    {
     "name": "stdout",
     "output_type": "stream",
     "text": [
      "Fitting 3 folds for each of 18 candidates, totalling 54 fits\n"
     ]
    },
    {
     "name": "stderr",
     "output_type": "stream",
     "text": [
      "C:\\Users\\msnp\\AppData\\Local\\pypoetry\\Cache\\virtualenvs\\kaggle-agent-poet-2ai3UW1A-py3.12\\Lib\\site-packages\\xgboost\\core.py:158: UserWarning: [14:57:03] WARNING: C:\\buildkite-agent\\builds\\buildkite-windows-cpu-autoscaling-group-i-0015a694724fa8361-1\\xgboost\\xgboost-ci-windows\\src\\learner.cc:740: \n",
      "Parameters: { \"use_label_encoder\" } are not used.\n",
      "\n",
      "  warnings.warn(smsg, UserWarning)\n",
      "C:\\Users\\msnp\\AppData\\Local\\pypoetry\\Cache\\virtualenvs\\kaggle-agent-poet-2ai3UW1A-py3.12\\Lib\\site-packages\\xgboost\\core.py:158: UserWarning: [14:57:03] WARNING: C:\\buildkite-agent\\builds\\buildkite-windows-cpu-autoscaling-group-i-0015a694724fa8361-1\\xgboost\\xgboost-ci-windows\\src\\learner.cc:740: \n",
      "Parameters: { \"use_label_encoder\" } are not used.\n",
      "\n",
      "  warnings.warn(smsg, UserWarning)\n"
     ]
    },
    {
     "name": "stderr",
     "output_type": "stream",
     "text": [
      "C:\\Users\\msnp\\AppData\\Local\\pypoetry\\Cache\\virtualenvs\\kaggle-agent-poet-2ai3UW1A-py3.12\\Lib\\site-packages\\xgboost\\core.py:158: UserWarning: [14:57:03] WARNING: C:\\buildkite-agent\\builds\\buildkite-windows-cpu-autoscaling-group-i-0015a694724fa8361-1\\xgboost\\xgboost-ci-windows\\src\\learner.cc:740: \n",
      "Parameters: { \"use_label_encoder\" } are not used.\n",
      "\n",
      "  warnings.warn(smsg, UserWarning)\n",
      "C:\\Users\\msnp\\AppData\\Local\\pypoetry\\Cache\\virtualenvs\\kaggle-agent-poet-2ai3UW1A-py3.12\\Lib\\site-packages\\xgboost\\core.py:158: UserWarning: [14:57:04] WARNING: C:\\buildkite-agent\\builds\\buildkite-windows-cpu-autoscaling-group-i-0015a694724fa8361-1\\xgboost\\xgboost-ci-windows\\src\\learner.cc:740: \n",
      "Parameters: { \"use_label_encoder\" } are not used.\n",
      "\n",
      "  warnings.warn(smsg, UserWarning)\n"
     ]
    },
    {
     "name": "stderr",
     "output_type": "stream",
     "text": [
      "C:\\Users\\msnp\\AppData\\Local\\pypoetry\\Cache\\virtualenvs\\kaggle-agent-poet-2ai3UW1A-py3.12\\Lib\\site-packages\\xgboost\\core.py:158: UserWarning: [14:57:04] WARNING: C:\\buildkite-agent\\builds\\buildkite-windows-cpu-autoscaling-group-i-0015a694724fa8361-1\\xgboost\\xgboost-ci-windows\\src\\learner.cc:740: \n",
      "Parameters: { \"use_label_encoder\" } are not used.\n",
      "\n",
      "  warnings.warn(smsg, UserWarning)\n"
     ]
    },
    {
     "name": "stderr",
     "output_type": "stream",
     "text": [
      "C:\\Users\\msnp\\AppData\\Local\\pypoetry\\Cache\\virtualenvs\\kaggle-agent-poet-2ai3UW1A-py3.12\\Lib\\site-packages\\xgboost\\core.py:158: UserWarning: [14:57:04] WARNING: C:\\buildkite-agent\\builds\\buildkite-windows-cpu-autoscaling-group-i-0015a694724fa8361-1\\xgboost\\xgboost-ci-windows\\src\\learner.cc:740: \n",
      "Parameters: { \"use_label_encoder\" } are not used.\n",
      "\n",
      "  warnings.warn(smsg, UserWarning)\n"
     ]
    },
    {
     "name": "stderr",
     "output_type": "stream",
     "text": [
      "C:\\Users\\msnp\\AppData\\Local\\pypoetry\\Cache\\virtualenvs\\kaggle-agent-poet-2ai3UW1A-py3.12\\Lib\\site-packages\\xgboost\\core.py:158: UserWarning: [14:57:04] WARNING: C:\\buildkite-agent\\builds\\buildkite-windows-cpu-autoscaling-group-i-0015a694724fa8361-1\\xgboost\\xgboost-ci-windows\\src\\learner.cc:740: \n",
      "Parameters: { \"use_label_encoder\" } are not used.\n",
      "\n",
      "  warnings.warn(smsg, UserWarning)\n"
     ]
    },
    {
     "name": "stderr",
     "output_type": "stream",
     "text": [
      "C:\\Users\\msnp\\AppData\\Local\\pypoetry\\Cache\\virtualenvs\\kaggle-agent-poet-2ai3UW1A-py3.12\\Lib\\site-packages\\xgboost\\core.py:158: UserWarning: [14:57:04] WARNING: C:\\buildkite-agent\\builds\\buildkite-windows-cpu-autoscaling-group-i-0015a694724fa8361-1\\xgboost\\xgboost-ci-windows\\src\\learner.cc:740: \n",
      "Parameters: { \"use_label_encoder\" } are not used.\n",
      "\n",
      "  warnings.warn(smsg, UserWarning)\n"
     ]
    },
    {
     "name": "stderr",
     "output_type": "stream",
     "text": [
      "C:\\Users\\msnp\\AppData\\Local\\pypoetry\\Cache\\virtualenvs\\kaggle-agent-poet-2ai3UW1A-py3.12\\Lib\\site-packages\\xgboost\\core.py:158: UserWarning: [14:57:05] WARNING: C:\\buildkite-agent\\builds\\buildkite-windows-cpu-autoscaling-group-i-0015a694724fa8361-1\\xgboost\\xgboost-ci-windows\\src\\learner.cc:740: \n",
      "Parameters: { \"use_label_encoder\" } are not used.\n",
      "\n",
      "  warnings.warn(smsg, UserWarning)\n"
     ]
    },
    {
     "name": "stderr",
     "output_type": "stream",
     "text": [
      "C:\\Users\\msnp\\AppData\\Local\\pypoetry\\Cache\\virtualenvs\\kaggle-agent-poet-2ai3UW1A-py3.12\\Lib\\site-packages\\xgboost\\core.py:158: UserWarning: [14:57:05] WARNING: C:\\buildkite-agent\\builds\\buildkite-windows-cpu-autoscaling-group-i-0015a694724fa8361-1\\xgboost\\xgboost-ci-windows\\src\\learner.cc:740: \n",
      "Parameters: { \"use_label_encoder\" } are not used.\n",
      "\n",
      "  warnings.warn(smsg, UserWarning)\n"
     ]
    },
    {
     "name": "stderr",
     "output_type": "stream",
     "text": [
      "C:\\Users\\msnp\\AppData\\Local\\pypoetry\\Cache\\virtualenvs\\kaggle-agent-poet-2ai3UW1A-py3.12\\Lib\\site-packages\\xgboost\\core.py:158: UserWarning: [14:57:05] WARNING: C:\\buildkite-agent\\builds\\buildkite-windows-cpu-autoscaling-group-i-0015a694724fa8361-1\\xgboost\\xgboost-ci-windows\\src\\learner.cc:740: \n",
      "Parameters: { \"use_label_encoder\" } are not used.\n",
      "\n",
      "  warnings.warn(smsg, UserWarning)\n"
     ]
    },
    {
     "name": "stderr",
     "output_type": "stream",
     "text": [
      "C:\\Users\\msnp\\AppData\\Local\\pypoetry\\Cache\\virtualenvs\\kaggle-agent-poet-2ai3UW1A-py3.12\\Lib\\site-packages\\xgboost\\core.py:158: UserWarning: [14:57:06] WARNING: C:\\buildkite-agent\\builds\\buildkite-windows-cpu-autoscaling-group-i-0015a694724fa8361-1\\xgboost\\xgboost-ci-windows\\src\\learner.cc:740: \n",
      "Parameters: { \"use_label_encoder\" } are not used.\n",
      "\n",
      "  warnings.warn(smsg, UserWarning)\n"
     ]
    },
    {
     "name": "stderr",
     "output_type": "stream",
     "text": [
      "C:\\Users\\msnp\\AppData\\Local\\pypoetry\\Cache\\virtualenvs\\kaggle-agent-poet-2ai3UW1A-py3.12\\Lib\\site-packages\\xgboost\\core.py:158: UserWarning: [14:57:06] WARNING: C:\\buildkite-agent\\builds\\buildkite-windows-cpu-autoscaling-group-i-0015a694724fa8361-1\\xgboost\\xgboost-ci-windows\\src\\learner.cc:740: \n",
      "Parameters: { \"use_label_encoder\" } are not used.\n",
      "\n",
      "  warnings.warn(smsg, UserWarning)\n"
     ]
    },
    {
     "name": "stderr",
     "output_type": "stream",
     "text": [
      "C:\\Users\\msnp\\AppData\\Local\\pypoetry\\Cache\\virtualenvs\\kaggle-agent-poet-2ai3UW1A-py3.12\\Lib\\site-packages\\xgboost\\core.py:158: UserWarning: [14:57:07] WARNING: C:\\buildkite-agent\\builds\\buildkite-windows-cpu-autoscaling-group-i-0015a694724fa8361-1\\xgboost\\xgboost-ci-windows\\src\\learner.cc:740: \n",
      "Parameters: { \"use_label_encoder\" } are not used.\n",
      "\n",
      "  warnings.warn(smsg, UserWarning)\n"
     ]
    },
    {
     "name": "stderr",
     "output_type": "stream",
     "text": [
      "C:\\Users\\msnp\\AppData\\Local\\pypoetry\\Cache\\virtualenvs\\kaggle-agent-poet-2ai3UW1A-py3.12\\Lib\\site-packages\\xgboost\\core.py:158: UserWarning: [14:57:07] WARNING: C:\\buildkite-agent\\builds\\buildkite-windows-cpu-autoscaling-group-i-0015a694724fa8361-1\\xgboost\\xgboost-ci-windows\\src\\learner.cc:740: \n",
      "Parameters: { \"use_label_encoder\" } are not used.\n",
      "\n",
      "  warnings.warn(smsg, UserWarning)\n"
     ]
    },
    {
     "name": "stderr",
     "output_type": "stream",
     "text": [
      "C:\\Users\\msnp\\AppData\\Local\\pypoetry\\Cache\\virtualenvs\\kaggle-agent-poet-2ai3UW1A-py3.12\\Lib\\site-packages\\xgboost\\core.py:158: UserWarning: [14:57:08] WARNING: C:\\buildkite-agent\\builds\\buildkite-windows-cpu-autoscaling-group-i-0015a694724fa8361-1\\xgboost\\xgboost-ci-windows\\src\\learner.cc:740: \n",
      "Parameters: { \"use_label_encoder\" } are not used.\n",
      "\n",
      "  warnings.warn(smsg, UserWarning)\n"
     ]
    },
    {
     "name": "stderr",
     "output_type": "stream",
     "text": [
      "C:\\Users\\msnp\\AppData\\Local\\pypoetry\\Cache\\virtualenvs\\kaggle-agent-poet-2ai3UW1A-py3.12\\Lib\\site-packages\\xgboost\\core.py:158: UserWarning: [14:57:09] WARNING: C:\\buildkite-agent\\builds\\buildkite-windows-cpu-autoscaling-group-i-0015a694724fa8361-1\\xgboost\\xgboost-ci-windows\\src\\learner.cc:740: \n",
      "Parameters: { \"use_label_encoder\" } are not used.\n",
      "\n",
      "  warnings.warn(smsg, UserWarning)\n"
     ]
    },
    {
     "name": "stderr",
     "output_type": "stream",
     "text": [
      "C:\\Users\\msnp\\AppData\\Local\\pypoetry\\Cache\\virtualenvs\\kaggle-agent-poet-2ai3UW1A-py3.12\\Lib\\site-packages\\xgboost\\core.py:158: UserWarning: [14:57:10] WARNING: C:\\buildkite-agent\\builds\\buildkite-windows-cpu-autoscaling-group-i-0015a694724fa8361-1\\xgboost\\xgboost-ci-windows\\src\\learner.cc:740: \n",
      "Parameters: { \"use_label_encoder\" } are not used.\n",
      "\n",
      "  warnings.warn(smsg, UserWarning)\n"
     ]
    },
    {
     "name": "stderr",
     "output_type": "stream",
     "text": [
      "C:\\Users\\msnp\\AppData\\Local\\pypoetry\\Cache\\virtualenvs\\kaggle-agent-poet-2ai3UW1A-py3.12\\Lib\\site-packages\\xgboost\\core.py:158: UserWarning: [14:57:11] WARNING: C:\\buildkite-agent\\builds\\buildkite-windows-cpu-autoscaling-group-i-0015a694724fa8361-1\\xgboost\\xgboost-ci-windows\\src\\learner.cc:740: \n",
      "Parameters: { \"use_label_encoder\" } are not used.\n",
      "\n",
      "  warnings.warn(smsg, UserWarning)\n",
      "C:\\Users\\msnp\\AppData\\Local\\pypoetry\\Cache\\virtualenvs\\kaggle-agent-poet-2ai3UW1A-py3.12\\Lib\\site-packages\\xgboost\\core.py:158: UserWarning: [14:57:11] WARNING: C:\\buildkite-agent\\builds\\buildkite-windows-cpu-autoscaling-group-i-0015a694724fa8361-1\\xgboost\\xgboost-ci-windows\\src\\learner.cc:740: \n",
      "Parameters: { \"use_label_encoder\" } are not used.\n",
      "\n",
      "  warnings.warn(smsg, UserWarning)\n",
      "C:\\Users\\msnp\\AppData\\Local\\pypoetry\\Cache\\virtualenvs\\kaggle-agent-poet-2ai3UW1A-py3.12\\Lib\\site-packages\\xgboost\\core.py:158: UserWarning: [14:57:11] WARNING: C:\\buildkite-agent\\builds\\buildkite-windows-cpu-autoscaling-group-i-0015a694724fa8361-1\\xgboost\\xgboost-ci-windows\\src\\learner.cc:740: \n",
      "Parameters: { \"use_label_encoder\" } are not used.\n",
      "\n",
      "  warnings.warn(smsg, UserWarning)\n"
     ]
    },
    {
     "name": "stderr",
     "output_type": "stream",
     "text": [
      "C:\\Users\\msnp\\AppData\\Local\\pypoetry\\Cache\\virtualenvs\\kaggle-agent-poet-2ai3UW1A-py3.12\\Lib\\site-packages\\xgboost\\core.py:158: UserWarning: [14:57:11] WARNING: C:\\buildkite-agent\\builds\\buildkite-windows-cpu-autoscaling-group-i-0015a694724fa8361-1\\xgboost\\xgboost-ci-windows\\src\\learner.cc:740: \n",
      "Parameters: { \"use_label_encoder\" } are not used.\n",
      "\n",
      "  warnings.warn(smsg, UserWarning)\n",
      "C:\\Users\\msnp\\AppData\\Local\\pypoetry\\Cache\\virtualenvs\\kaggle-agent-poet-2ai3UW1A-py3.12\\Lib\\site-packages\\xgboost\\core.py:158: UserWarning: [14:57:11] WARNING: C:\\buildkite-agent\\builds\\buildkite-windows-cpu-autoscaling-group-i-0015a694724fa8361-1\\xgboost\\xgboost-ci-windows\\src\\learner.cc:740: \n",
      "Parameters: { \"use_label_encoder\" } are not used.\n",
      "\n",
      "  warnings.warn(smsg, UserWarning)\n"
     ]
    },
    {
     "name": "stderr",
     "output_type": "stream",
     "text": [
      "C:\\Users\\msnp\\AppData\\Local\\pypoetry\\Cache\\virtualenvs\\kaggle-agent-poet-2ai3UW1A-py3.12\\Lib\\site-packages\\xgboost\\core.py:158: UserWarning: [14:57:11] WARNING: C:\\buildkite-agent\\builds\\buildkite-windows-cpu-autoscaling-group-i-0015a694724fa8361-1\\xgboost\\xgboost-ci-windows\\src\\learner.cc:740: \n",
      "Parameters: { \"use_label_encoder\" } are not used.\n",
      "\n",
      "  warnings.warn(smsg, UserWarning)\n"
     ]
    },
    {
     "name": "stderr",
     "output_type": "stream",
     "text": [
      "C:\\Users\\msnp\\AppData\\Local\\pypoetry\\Cache\\virtualenvs\\kaggle-agent-poet-2ai3UW1A-py3.12\\Lib\\site-packages\\xgboost\\core.py:158: UserWarning: [14:57:12] WARNING: C:\\buildkite-agent\\builds\\buildkite-windows-cpu-autoscaling-group-i-0015a694724fa8361-1\\xgboost\\xgboost-ci-windows\\src\\learner.cc:740: \n",
      "Parameters: { \"use_label_encoder\" } are not used.\n",
      "\n",
      "  warnings.warn(smsg, UserWarning)\n",
      "C:\\Users\\msnp\\AppData\\Local\\pypoetry\\Cache\\virtualenvs\\kaggle-agent-poet-2ai3UW1A-py3.12\\Lib\\site-packages\\xgboost\\core.py:158: UserWarning: [14:57:12] WARNING: C:\\buildkite-agent\\builds\\buildkite-windows-cpu-autoscaling-group-i-0015a694724fa8361-1\\xgboost\\xgboost-ci-windows\\src\\learner.cc:740: \n",
      "Parameters: { \"use_label_encoder\" } are not used.\n",
      "\n",
      "  warnings.warn(smsg, UserWarning)\n"
     ]
    },
    {
     "name": "stderr",
     "output_type": "stream",
     "text": [
      "C:\\Users\\msnp\\AppData\\Local\\pypoetry\\Cache\\virtualenvs\\kaggle-agent-poet-2ai3UW1A-py3.12\\Lib\\site-packages\\xgboost\\core.py:158: UserWarning: [14:57:12] WARNING: C:\\buildkite-agent\\builds\\buildkite-windows-cpu-autoscaling-group-i-0015a694724fa8361-1\\xgboost\\xgboost-ci-windows\\src\\learner.cc:740: \n",
      "Parameters: { \"use_label_encoder\" } are not used.\n",
      "\n",
      "  warnings.warn(smsg, UserWarning)\n",
      "C:\\Users\\msnp\\AppData\\Local\\pypoetry\\Cache\\virtualenvs\\kaggle-agent-poet-2ai3UW1A-py3.12\\Lib\\site-packages\\xgboost\\core.py:158: UserWarning: [14:57:12] WARNING: C:\\buildkite-agent\\builds\\buildkite-windows-cpu-autoscaling-group-i-0015a694724fa8361-1\\xgboost\\xgboost-ci-windows\\src\\learner.cc:740: \n",
      "Parameters: { \"use_label_encoder\" } are not used.\n",
      "\n",
      "  warnings.warn(smsg, UserWarning)\n"
     ]
    },
    {
     "name": "stderr",
     "output_type": "stream",
     "text": [
      "C:\\Users\\msnp\\AppData\\Local\\pypoetry\\Cache\\virtualenvs\\kaggle-agent-poet-2ai3UW1A-py3.12\\Lib\\site-packages\\xgboost\\core.py:158: UserWarning: [14:57:12] WARNING: C:\\buildkite-agent\\builds\\buildkite-windows-cpu-autoscaling-group-i-0015a694724fa8361-1\\xgboost\\xgboost-ci-windows\\src\\learner.cc:740: \n",
      "Parameters: { \"use_label_encoder\" } are not used.\n",
      "\n",
      "  warnings.warn(smsg, UserWarning)\n"
     ]
    },
    {
     "name": "stderr",
     "output_type": "stream",
     "text": [
      "C:\\Users\\msnp\\AppData\\Local\\pypoetry\\Cache\\virtualenvs\\kaggle-agent-poet-2ai3UW1A-py3.12\\Lib\\site-packages\\xgboost\\core.py:158: UserWarning: [14:57:13] WARNING: C:\\buildkite-agent\\builds\\buildkite-windows-cpu-autoscaling-group-i-0015a694724fa8361-1\\xgboost\\xgboost-ci-windows\\src\\learner.cc:740: \n",
      "Parameters: { \"use_label_encoder\" } are not used.\n",
      "\n",
      "  warnings.warn(smsg, UserWarning)\n"
     ]
    },
    {
     "name": "stderr",
     "output_type": "stream",
     "text": [
      "C:\\Users\\msnp\\AppData\\Local\\pypoetry\\Cache\\virtualenvs\\kaggle-agent-poet-2ai3UW1A-py3.12\\Lib\\site-packages\\xgboost\\core.py:158: UserWarning: [14:57:13] WARNING: C:\\buildkite-agent\\builds\\buildkite-windows-cpu-autoscaling-group-i-0015a694724fa8361-1\\xgboost\\xgboost-ci-windows\\src\\learner.cc:740: \n",
      "Parameters: { \"use_label_encoder\" } are not used.\n",
      "\n",
      "  warnings.warn(smsg, UserWarning)\n"
     ]
    },
    {
     "name": "stderr",
     "output_type": "stream",
     "text": [
      "C:\\Users\\msnp\\AppData\\Local\\pypoetry\\Cache\\virtualenvs\\kaggle-agent-poet-2ai3UW1A-py3.12\\Lib\\site-packages\\xgboost\\core.py:158: UserWarning: [14:57:13] WARNING: C:\\buildkite-agent\\builds\\buildkite-windows-cpu-autoscaling-group-i-0015a694724fa8361-1\\xgboost\\xgboost-ci-windows\\src\\learner.cc:740: \n",
      "Parameters: { \"use_label_encoder\" } are not used.\n",
      "\n",
      "  warnings.warn(smsg, UserWarning)\n"
     ]
    },
    {
     "name": "stderr",
     "output_type": "stream",
     "text": [
      "C:\\Users\\msnp\\AppData\\Local\\pypoetry\\Cache\\virtualenvs\\kaggle-agent-poet-2ai3UW1A-py3.12\\Lib\\site-packages\\xgboost\\core.py:158: UserWarning: [14:57:14] WARNING: C:\\buildkite-agent\\builds\\buildkite-windows-cpu-autoscaling-group-i-0015a694724fa8361-1\\xgboost\\xgboost-ci-windows\\src\\learner.cc:740: \n",
      "Parameters: { \"use_label_encoder\" } are not used.\n",
      "\n",
      "  warnings.warn(smsg, UserWarning)\n"
     ]
    },
    {
     "name": "stderr",
     "output_type": "stream",
     "text": [
      "C:\\Users\\msnp\\AppData\\Local\\pypoetry\\Cache\\virtualenvs\\kaggle-agent-poet-2ai3UW1A-py3.12\\Lib\\site-packages\\xgboost\\core.py:158: UserWarning: [14:57:14] WARNING: C:\\buildkite-agent\\builds\\buildkite-windows-cpu-autoscaling-group-i-0015a694724fa8361-1\\xgboost\\xgboost-ci-windows\\src\\learner.cc:740: \n",
      "Parameters: { \"use_label_encoder\" } are not used.\n",
      "\n",
      "  warnings.warn(smsg, UserWarning)\n"
     ]
    },
    {
     "name": "stderr",
     "output_type": "stream",
     "text": [
      "C:\\Users\\msnp\\AppData\\Local\\pypoetry\\Cache\\virtualenvs\\kaggle-agent-poet-2ai3UW1A-py3.12\\Lib\\site-packages\\xgboost\\core.py:158: UserWarning: [14:57:15] WARNING: C:\\buildkite-agent\\builds\\buildkite-windows-cpu-autoscaling-group-i-0015a694724fa8361-1\\xgboost\\xgboost-ci-windows\\src\\learner.cc:740: \n",
      "Parameters: { \"use_label_encoder\" } are not used.\n",
      "\n",
      "  warnings.warn(smsg, UserWarning)\n"
     ]
    },
    {
     "name": "stderr",
     "output_type": "stream",
     "text": [
      "C:\\Users\\msnp\\AppData\\Local\\pypoetry\\Cache\\virtualenvs\\kaggle-agent-poet-2ai3UW1A-py3.12\\Lib\\site-packages\\xgboost\\core.py:158: UserWarning: [14:57:15] WARNING: C:\\buildkite-agent\\builds\\buildkite-windows-cpu-autoscaling-group-i-0015a694724fa8361-1\\xgboost\\xgboost-ci-windows\\src\\learner.cc:740: \n",
      "Parameters: { \"use_label_encoder\" } are not used.\n",
      "\n",
      "  warnings.warn(smsg, UserWarning)\n"
     ]
    },
    {
     "name": "stderr",
     "output_type": "stream",
     "text": [
      "C:\\Users\\msnp\\AppData\\Local\\pypoetry\\Cache\\virtualenvs\\kaggle-agent-poet-2ai3UW1A-py3.12\\Lib\\site-packages\\xgboost\\core.py:158: UserWarning: [14:57:16] WARNING: C:\\buildkite-agent\\builds\\buildkite-windows-cpu-autoscaling-group-i-0015a694724fa8361-1\\xgboost\\xgboost-ci-windows\\src\\learner.cc:740: \n",
      "Parameters: { \"use_label_encoder\" } are not used.\n",
      "\n",
      "  warnings.warn(smsg, UserWarning)\n",
      "C:\\Users\\msnp\\AppData\\Local\\pypoetry\\Cache\\virtualenvs\\kaggle-agent-poet-2ai3UW1A-py3.12\\Lib\\site-packages\\xgboost\\core.py:158: UserWarning: [14:57:16] WARNING: C:\\buildkite-agent\\builds\\buildkite-windows-cpu-autoscaling-group-i-0015a694724fa8361-1\\xgboost\\xgboost-ci-windows\\src\\learner.cc:740: \n",
      "Parameters: { \"use_label_encoder\" } are not used.\n",
      "\n",
      "  warnings.warn(smsg, UserWarning)\n",
      "C:\\Users\\msnp\\AppData\\Local\\pypoetry\\Cache\\virtualenvs\\kaggle-agent-poet-2ai3UW1A-py3.12\\Lib\\site-packages\\xgboost\\core.py:158: UserWarning: [14:57:16] WARNING: C:\\buildkite-agent\\builds\\buildkite-windows-cpu-autoscaling-group-i-0015a694724fa8361-1\\xgboost\\xgboost-ci-windows\\src\\learner.cc:740: \n",
      "Parameters: { \"use_label_encoder\" } are not used.\n",
      "\n",
      "  warnings.warn(smsg, UserWarning)\n"
     ]
    },
    {
     "name": "stderr",
     "output_type": "stream",
     "text": [
      "C:\\Users\\msnp\\AppData\\Local\\pypoetry\\Cache\\virtualenvs\\kaggle-agent-poet-2ai3UW1A-py3.12\\Lib\\site-packages\\xgboost\\core.py:158: UserWarning: [14:57:16] WARNING: C:\\buildkite-agent\\builds\\buildkite-windows-cpu-autoscaling-group-i-0015a694724fa8361-1\\xgboost\\xgboost-ci-windows\\src\\learner.cc:740: \n",
      "Parameters: { \"use_label_encoder\" } are not used.\n",
      "\n",
      "  warnings.warn(smsg, UserWarning)\n",
      "C:\\Users\\msnp\\AppData\\Local\\pypoetry\\Cache\\virtualenvs\\kaggle-agent-poet-2ai3UW1A-py3.12\\Lib\\site-packages\\xgboost\\core.py:158: UserWarning: [14:57:16] WARNING: C:\\buildkite-agent\\builds\\buildkite-windows-cpu-autoscaling-group-i-0015a694724fa8361-1\\xgboost\\xgboost-ci-windows\\src\\learner.cc:740: \n",
      "Parameters: { \"use_label_encoder\" } are not used.\n",
      "\n",
      "  warnings.warn(smsg, UserWarning)\n"
     ]
    },
    {
     "name": "stderr",
     "output_type": "stream",
     "text": [
      "C:\\Users\\msnp\\AppData\\Local\\pypoetry\\Cache\\virtualenvs\\kaggle-agent-poet-2ai3UW1A-py3.12\\Lib\\site-packages\\xgboost\\core.py:158: UserWarning: [14:57:17] WARNING: C:\\buildkite-agent\\builds\\buildkite-windows-cpu-autoscaling-group-i-0015a694724fa8361-1\\xgboost\\xgboost-ci-windows\\src\\learner.cc:740: \n",
      "Parameters: { \"use_label_encoder\" } are not used.\n",
      "\n",
      "  warnings.warn(smsg, UserWarning)\n",
      "C:\\Users\\msnp\\AppData\\Local\\pypoetry\\Cache\\virtualenvs\\kaggle-agent-poet-2ai3UW1A-py3.12\\Lib\\site-packages\\xgboost\\core.py:158: UserWarning: [14:57:17] WARNING: C:\\buildkite-agent\\builds\\buildkite-windows-cpu-autoscaling-group-i-0015a694724fa8361-1\\xgboost\\xgboost-ci-windows\\src\\learner.cc:740: \n",
      "Parameters: { \"use_label_encoder\" } are not used.\n",
      "\n",
      "  warnings.warn(smsg, UserWarning)\n"
     ]
    },
    {
     "name": "stderr",
     "output_type": "stream",
     "text": [
      "C:\\Users\\msnp\\AppData\\Local\\pypoetry\\Cache\\virtualenvs\\kaggle-agent-poet-2ai3UW1A-py3.12\\Lib\\site-packages\\xgboost\\core.py:158: UserWarning: [14:57:17] WARNING: C:\\buildkite-agent\\builds\\buildkite-windows-cpu-autoscaling-group-i-0015a694724fa8361-1\\xgboost\\xgboost-ci-windows\\src\\learner.cc:740: \n",
      "Parameters: { \"use_label_encoder\" } are not used.\n",
      "\n",
      "  warnings.warn(smsg, UserWarning)\n",
      "C:\\Users\\msnp\\AppData\\Local\\pypoetry\\Cache\\virtualenvs\\kaggle-agent-poet-2ai3UW1A-py3.12\\Lib\\site-packages\\xgboost\\core.py:158: UserWarning: [14:57:17] WARNING: C:\\buildkite-agent\\builds\\buildkite-windows-cpu-autoscaling-group-i-0015a694724fa8361-1\\xgboost\\xgboost-ci-windows\\src\\learner.cc:740: \n",
      "Parameters: { \"use_label_encoder\" } are not used.\n",
      "\n",
      "  warnings.warn(smsg, UserWarning)\n"
     ]
    },
    {
     "name": "stderr",
     "output_type": "stream",
     "text": [
      "C:\\Users\\msnp\\AppData\\Local\\pypoetry\\Cache\\virtualenvs\\kaggle-agent-poet-2ai3UW1A-py3.12\\Lib\\site-packages\\xgboost\\core.py:158: UserWarning: [14:57:17] WARNING: C:\\buildkite-agent\\builds\\buildkite-windows-cpu-autoscaling-group-i-0015a694724fa8361-1\\xgboost\\xgboost-ci-windows\\src\\learner.cc:740: \n",
      "Parameters: { \"use_label_encoder\" } are not used.\n",
      "\n",
      "  warnings.warn(smsg, UserWarning)\n"
     ]
    },
    {
     "name": "stderr",
     "output_type": "stream",
     "text": [
      "C:\\Users\\msnp\\AppData\\Local\\pypoetry\\Cache\\virtualenvs\\kaggle-agent-poet-2ai3UW1A-py3.12\\Lib\\site-packages\\xgboost\\core.py:158: UserWarning: [14:57:18] WARNING: C:\\buildkite-agent\\builds\\buildkite-windows-cpu-autoscaling-group-i-0015a694724fa8361-1\\xgboost\\xgboost-ci-windows\\src\\learner.cc:740: \n",
      "Parameters: { \"use_label_encoder\" } are not used.\n",
      "\n",
      "  warnings.warn(smsg, UserWarning)\n"
     ]
    },
    {
     "name": "stderr",
     "output_type": "stream",
     "text": [
      "C:\\Users\\msnp\\AppData\\Local\\pypoetry\\Cache\\virtualenvs\\kaggle-agent-poet-2ai3UW1A-py3.12\\Lib\\site-packages\\xgboost\\core.py:158: UserWarning: [14:57:18] WARNING: C:\\buildkite-agent\\builds\\buildkite-windows-cpu-autoscaling-group-i-0015a694724fa8361-1\\xgboost\\xgboost-ci-windows\\src\\learner.cc:740: \n",
      "Parameters: { \"use_label_encoder\" } are not used.\n",
      "\n",
      "  warnings.warn(smsg, UserWarning)\n"
     ]
    },
    {
     "name": "stderr",
     "output_type": "stream",
     "text": [
      "C:\\Users\\msnp\\AppData\\Local\\pypoetry\\Cache\\virtualenvs\\kaggle-agent-poet-2ai3UW1A-py3.12\\Lib\\site-packages\\xgboost\\core.py:158: UserWarning: [14:57:18] WARNING: C:\\buildkite-agent\\builds\\buildkite-windows-cpu-autoscaling-group-i-0015a694724fa8361-1\\xgboost\\xgboost-ci-windows\\src\\learner.cc:740: \n",
      "Parameters: { \"use_label_encoder\" } are not used.\n",
      "\n",
      "  warnings.warn(smsg, UserWarning)\n"
     ]
    },
    {
     "name": "stderr",
     "output_type": "stream",
     "text": [
      "C:\\Users\\msnp\\AppData\\Local\\pypoetry\\Cache\\virtualenvs\\kaggle-agent-poet-2ai3UW1A-py3.12\\Lib\\site-packages\\xgboost\\core.py:158: UserWarning: [14:57:19] WARNING: C:\\buildkite-agent\\builds\\buildkite-windows-cpu-autoscaling-group-i-0015a694724fa8361-1\\xgboost\\xgboost-ci-windows\\src\\learner.cc:740: \n",
      "Parameters: { \"use_label_encoder\" } are not used.\n",
      "\n",
      "  warnings.warn(smsg, UserWarning)\n"
     ]
    },
    {
     "name": "stderr",
     "output_type": "stream",
     "text": [
      "C:\\Users\\msnp\\AppData\\Local\\pypoetry\\Cache\\virtualenvs\\kaggle-agent-poet-2ai3UW1A-py3.12\\Lib\\site-packages\\xgboost\\core.py:158: UserWarning: [14:57:19] WARNING: C:\\buildkite-agent\\builds\\buildkite-windows-cpu-autoscaling-group-i-0015a694724fa8361-1\\xgboost\\xgboost-ci-windows\\src\\learner.cc:740: \n",
      "Parameters: { \"use_label_encoder\" } are not used.\n",
      "\n",
      "  warnings.warn(smsg, UserWarning)\n"
     ]
    },
    {
     "name": "stderr",
     "output_type": "stream",
     "text": [
      "C:\\Users\\msnp\\AppData\\Local\\pypoetry\\Cache\\virtualenvs\\kaggle-agent-poet-2ai3UW1A-py3.12\\Lib\\site-packages\\xgboost\\core.py:158: UserWarning: [14:57:19] WARNING: C:\\buildkite-agent\\builds\\buildkite-windows-cpu-autoscaling-group-i-0015a694724fa8361-1\\xgboost\\xgboost-ci-windows\\src\\learner.cc:740: \n",
      "Parameters: { \"use_label_encoder\" } are not used.\n",
      "\n",
      "  warnings.warn(smsg, UserWarning)\n"
     ]
    },
    {
     "name": "stderr",
     "output_type": "stream",
     "text": [
      "C:\\Users\\msnp\\AppData\\Local\\pypoetry\\Cache\\virtualenvs\\kaggle-agent-poet-2ai3UW1A-py3.12\\Lib\\site-packages\\xgboost\\core.py:158: UserWarning: [14:57:20] WARNING: C:\\buildkite-agent\\builds\\buildkite-windows-cpu-autoscaling-group-i-0015a694724fa8361-1\\xgboost\\xgboost-ci-windows\\src\\learner.cc:740: \n",
      "Parameters: { \"use_label_encoder\" } are not used.\n",
      "\n",
      "  warnings.warn(smsg, UserWarning)\n"
     ]
    },
    {
     "name": "stderr",
     "output_type": "stream",
     "text": [
      "C:\\Users\\msnp\\AppData\\Local\\pypoetry\\Cache\\virtualenvs\\kaggle-agent-poet-2ai3UW1A-py3.12\\Lib\\site-packages\\xgboost\\core.py:158: UserWarning: [14:57:20] WARNING: C:\\buildkite-agent\\builds\\buildkite-windows-cpu-autoscaling-group-i-0015a694724fa8361-1\\xgboost\\xgboost-ci-windows\\src\\learner.cc:740: \n",
      "Parameters: { \"use_label_encoder\" } are not used.\n",
      "\n",
      "  warnings.warn(smsg, UserWarning)\n"
     ]
    },
    {
     "name": "stderr",
     "output_type": "stream",
     "text": [
      "C:\\Users\\msnp\\AppData\\Local\\pypoetry\\Cache\\virtualenvs\\kaggle-agent-poet-2ai3UW1A-py3.12\\Lib\\site-packages\\xgboost\\core.py:158: UserWarning: [14:57:21] WARNING: C:\\buildkite-agent\\builds\\buildkite-windows-cpu-autoscaling-group-i-0015a694724fa8361-1\\xgboost\\xgboost-ci-windows\\src\\learner.cc:740: \n",
      "Parameters: { \"use_label_encoder\" } are not used.\n",
      "\n",
      "  warnings.warn(smsg, UserWarning)\n"
     ]
    },
    {
     "name": "stdout",
     "output_type": "stream",
     "text": [
      "Validation Accuracy: 0.7797584818861415\n"
     ]
    }
   ],
   "source": [
    "import pandas as pd\n",
    "import numpy as np\n",
    "from sklearn.impute import SimpleImputer\n",
    "from sklearn.preprocessing import OneHotEncoder, StandardScaler\n",
    "from sklearn.compose import ColumnTransformer\n",
    "from sklearn.pipeline import Pipeline\n",
    "from sklearn.model_selection import train_test_split, GridSearchCV\n",
    "from sklearn.ensemble import RandomForestClassifier\n",
    "from xgboost import XGBClassifier\n",
    "from sklearn.metrics import accuracy_score\n",
    "\n",
    "# Load the datasets\n",
    "train_df = pd.read_csv(\"./input/train.csv\")\n",
    "test_df = pd.read_csv(\"./input/test.csv\")\n",
    "\n",
    "# Define the target variable and features\n",
    "target = \"Transported\"\n",
    "features = train_df.columns.drop([target, \"PassengerId\", \"Name\"])\n",
    "\n",
    "# Identify categorical and numerical columns\n",
    "categorical_cols = [\"HomePlanet\", \"CryoSleep\", \"Cabin\", \"Destination\", \"VIP\"]\n",
    "numerical_cols = [\"Age\", \"RoomService\", \"FoodCourt\", \"ShoppingMall\", \"Spa\", \"VRDeck\"]\n",
    "\n",
    "# Preprocessing pipeline\n",
    "preprocessor = ColumnTransformer(\n",
    "    transformers=[\n",
    "        (\n",
    "            \"num\",\n",
    "            Pipeline(\n",
    "                steps=[\n",
    "                    (\"imputer\", SimpleImputer(strategy=\"mean\")),\n",
    "                    (\"scaler\", StandardScaler()),\n",
    "                ]\n",
    "            ),\n",
    "            numerical_cols,\n",
    "        ),\n",
    "        (\n",
    "            \"cat\",\n",
    "            Pipeline(\n",
    "                steps=[\n",
    "                    (\"imputer\", SimpleImputer(strategy=\"most_frequent\")),\n",
    "                    (\"encoder\", OneHotEncoder(handle_unknown=\"ignore\")),\n",
    "                ]\n",
    "            ),\n",
    "            categorical_cols,\n",
    "        ),\n",
    "    ]\n",
    ")\n",
    "\n",
    "# Split the data into training and validation sets\n",
    "X = preprocessor.fit_transform(train_df[features])\n",
    "y = train_df[target]\n",
    "X_train, X_val, y_train, y_val = train_test_split(X, y, test_size=0.2, random_state=42)\n",
    "\n",
    "# Define the model and hyperparameter grid\n",
    "model = XGBClassifier(use_label_encoder=False, eval_metric=\"logloss\")\n",
    "param_grid = {\n",
    "    \"n_estimators\": [100, 200],\n",
    "    \"max_depth\": [3, 5, 7],\n",
    "    \"learning_rate\": [0.01, 0.1, 0.2],\n",
    "}\n",
    "\n",
    "# Perform Grid Search with Cross-Validation\n",
    "grid_search = GridSearchCV(model, param_grid, cv=3, scoring=\"accuracy\", verbose=1)\n",
    "grid_search.fit(X_train, y_train)\n",
    "\n",
    "# Best model from grid search\n",
    "best_model = grid_search.best_estimator_\n",
    "\n",
    "# Make predictions on the validation set\n",
    "y_pred = best_model.predict(X_val)\n",
    "\n",
    "# Evaluate the model\n",
    "accuracy = accuracy_score(y_val, y_pred)\n",
    "print(\"Validation Accuracy:\", accuracy)\n",
    "\n",
    "# Transform the test data\n",
    "X_test = preprocessor.transform(test_df[features])\n",
    "\n",
    "# Make predictions on the test set\n",
    "test_predictions = best_model.predict(X_test)\n",
    "\n",
    "# Prepare submission DataFrame\n",
    "submission_df = pd.DataFrame(\n",
    "    {\"PassengerId\": test_df[\"PassengerId\"], \"Transported\": test_predictions}\n",
    ")\n",
    "\n",
    "# Save the submission file\n",
    "submission_df.to_csv(\"submission.csv\", index=False)"
   ]
  },
  {
   "cell_type": "code",
   "execution_count": null,
   "id": "2df4c5d7",
   "metadata": {},
   "outputs": [
    {
     "name": "stdout",
     "output_type": "stream",
     "text": [
      "Random Forest Validation Accuracy: 0.7849\n"
     ]
    },
    {
     "name": "stderr",
     "output_type": "stream",
     "text": [
      "C:\\Users\\msnp\\AppData\\Local\\pypoetry\\Cache\\virtualenvs\\kaggle-agent-poet-2ai3UW1A-py3.12\\Lib\\site-packages\\xgboost\\core.py:158: UserWarning: [14:58:03] WARNING: C:\\buildkite-agent\\builds\\buildkite-windows-cpu-autoscaling-group-i-0015a694724fa8361-1\\xgboost\\xgboost-ci-windows\\src\\learner.cc:740: \n",
      "Parameters: { \"use_label_encoder\" } are not used.\n",
      "\n",
      "  warnings.warn(smsg, UserWarning)\n"
     ]
    },
    {
     "name": "stdout",
     "output_type": "stream",
     "text": [
      "XGBoost Validation Accuracy: 0.7844\n",
      "Fitting 3 folds for each of 18 candidates, totalling 54 fits\n"
     ]
    },
    {
     "name": "stderr",
     "output_type": "stream",
     "text": [
      "C:\\Users\\msnp\\AppData\\Local\\pypoetry\\Cache\\virtualenvs\\kaggle-agent-poet-2ai3UW1A-py3.12\\Lib\\site-packages\\xgboost\\core.py:158: UserWarning: [14:58:03] WARNING: C:\\buildkite-agent\\builds\\buildkite-windows-cpu-autoscaling-group-i-0015a694724fa8361-1\\xgboost\\xgboost-ci-windows\\src\\learner.cc:740: \n",
      "Parameters: { \"use_label_encoder\" } are not used.\n",
      "\n",
      "  warnings.warn(smsg, UserWarning)\n",
      "C:\\Users\\msnp\\AppData\\Local\\pypoetry\\Cache\\virtualenvs\\kaggle-agent-poet-2ai3UW1A-py3.12\\Lib\\site-packages\\xgboost\\core.py:158: UserWarning: [14:58:03] WARNING: C:\\buildkite-agent\\builds\\buildkite-windows-cpu-autoscaling-group-i-0015a694724fa8361-1\\xgboost\\xgboost-ci-windows\\src\\learner.cc:740: \n",
      "Parameters: { \"use_label_encoder\" } are not used.\n",
      "\n",
      "  warnings.warn(smsg, UserWarning)\n"
     ]
    },
    {
     "name": "stderr",
     "output_type": "stream",
     "text": [
      "C:\\Users\\msnp\\AppData\\Local\\pypoetry\\Cache\\virtualenvs\\kaggle-agent-poet-2ai3UW1A-py3.12\\Lib\\site-packages\\xgboost\\core.py:158: UserWarning: [14:58:03] WARNING: C:\\buildkite-agent\\builds\\buildkite-windows-cpu-autoscaling-group-i-0015a694724fa8361-1\\xgboost\\xgboost-ci-windows\\src\\learner.cc:740: \n",
      "Parameters: { \"use_label_encoder\" } are not used.\n",
      "\n",
      "  warnings.warn(smsg, UserWarning)\n",
      "C:\\Users\\msnp\\AppData\\Local\\pypoetry\\Cache\\virtualenvs\\kaggle-agent-poet-2ai3UW1A-py3.12\\Lib\\site-packages\\xgboost\\core.py:158: UserWarning: [14:58:03] WARNING: C:\\buildkite-agent\\builds\\buildkite-windows-cpu-autoscaling-group-i-0015a694724fa8361-1\\xgboost\\xgboost-ci-windows\\src\\learner.cc:740: \n",
      "Parameters: { \"use_label_encoder\" } are not used.\n",
      "\n",
      "  warnings.warn(smsg, UserWarning)\n"
     ]
    },
    {
     "name": "stderr",
     "output_type": "stream",
     "text": [
      "C:\\Users\\msnp\\AppData\\Local\\pypoetry\\Cache\\virtualenvs\\kaggle-agent-poet-2ai3UW1A-py3.12\\Lib\\site-packages\\xgboost\\core.py:158: UserWarning: [14:58:04] WARNING: C:\\buildkite-agent\\builds\\buildkite-windows-cpu-autoscaling-group-i-0015a694724fa8361-1\\xgboost\\xgboost-ci-windows\\src\\learner.cc:740: \n",
      "Parameters: { \"use_label_encoder\" } are not used.\n",
      "\n",
      "  warnings.warn(smsg, UserWarning)\n"
     ]
    },
    {
     "name": "stderr",
     "output_type": "stream",
     "text": [
      "C:\\Users\\msnp\\AppData\\Local\\pypoetry\\Cache\\virtualenvs\\kaggle-agent-poet-2ai3UW1A-py3.12\\Lib\\site-packages\\xgboost\\core.py:158: UserWarning: [14:58:04] WARNING: C:\\buildkite-agent\\builds\\buildkite-windows-cpu-autoscaling-group-i-0015a694724fa8361-1\\xgboost\\xgboost-ci-windows\\src\\learner.cc:740: \n",
      "Parameters: { \"use_label_encoder\" } are not used.\n",
      "\n",
      "  warnings.warn(smsg, UserWarning)\n"
     ]
    },
    {
     "name": "stderr",
     "output_type": "stream",
     "text": [
      "C:\\Users\\msnp\\AppData\\Local\\pypoetry\\Cache\\virtualenvs\\kaggle-agent-poet-2ai3UW1A-py3.12\\Lib\\site-packages\\xgboost\\core.py:158: UserWarning: [14:58:04] WARNING: C:\\buildkite-agent\\builds\\buildkite-windows-cpu-autoscaling-group-i-0015a694724fa8361-1\\xgboost\\xgboost-ci-windows\\src\\learner.cc:740: \n",
      "Parameters: { \"use_label_encoder\" } are not used.\n",
      "\n",
      "  warnings.warn(smsg, UserWarning)\n"
     ]
    },
    {
     "name": "stderr",
     "output_type": "stream",
     "text": [
      "C:\\Users\\msnp\\AppData\\Local\\pypoetry\\Cache\\virtualenvs\\kaggle-agent-poet-2ai3UW1A-py3.12\\Lib\\site-packages\\xgboost\\core.py:158: UserWarning: [14:58:04] WARNING: C:\\buildkite-agent\\builds\\buildkite-windows-cpu-autoscaling-group-i-0015a694724fa8361-1\\xgboost\\xgboost-ci-windows\\src\\learner.cc:740: \n",
      "Parameters: { \"use_label_encoder\" } are not used.\n",
      "\n",
      "  warnings.warn(smsg, UserWarning)\n"
     ]
    },
    {
     "name": "stderr",
     "output_type": "stream",
     "text": [
      "C:\\Users\\msnp\\AppData\\Local\\pypoetry\\Cache\\virtualenvs\\kaggle-agent-poet-2ai3UW1A-py3.12\\Lib\\site-packages\\xgboost\\core.py:158: UserWarning: [14:58:05] WARNING: C:\\buildkite-agent\\builds\\buildkite-windows-cpu-autoscaling-group-i-0015a694724fa8361-1\\xgboost\\xgboost-ci-windows\\src\\learner.cc:740: \n",
      "Parameters: { \"use_label_encoder\" } are not used.\n",
      "\n",
      "  warnings.warn(smsg, UserWarning)\n"
     ]
    },
    {
     "name": "stderr",
     "output_type": "stream",
     "text": [
      "C:\\Users\\msnp\\AppData\\Local\\pypoetry\\Cache\\virtualenvs\\kaggle-agent-poet-2ai3UW1A-py3.12\\Lib\\site-packages\\xgboost\\core.py:158: UserWarning: [14:58:05] WARNING: C:\\buildkite-agent\\builds\\buildkite-windows-cpu-autoscaling-group-i-0015a694724fa8361-1\\xgboost\\xgboost-ci-windows\\src\\learner.cc:740: \n",
      "Parameters: { \"use_label_encoder\" } are not used.\n",
      "\n",
      "  warnings.warn(smsg, UserWarning)\n"
     ]
    },
    {
     "name": "stderr",
     "output_type": "stream",
     "text": [
      "C:\\Users\\msnp\\AppData\\Local\\pypoetry\\Cache\\virtualenvs\\kaggle-agent-poet-2ai3UW1A-py3.12\\Lib\\site-packages\\xgboost\\core.py:158: UserWarning: [14:58:05] WARNING: C:\\buildkite-agent\\builds\\buildkite-windows-cpu-autoscaling-group-i-0015a694724fa8361-1\\xgboost\\xgboost-ci-windows\\src\\learner.cc:740: \n",
      "Parameters: { \"use_label_encoder\" } are not used.\n",
      "\n",
      "  warnings.warn(smsg, UserWarning)\n"
     ]
    },
    {
     "name": "stderr",
     "output_type": "stream",
     "text": [
      "C:\\Users\\msnp\\AppData\\Local\\pypoetry\\Cache\\virtualenvs\\kaggle-agent-poet-2ai3UW1A-py3.12\\Lib\\site-packages\\xgboost\\core.py:158: UserWarning: [14:58:06] WARNING: C:\\buildkite-agent\\builds\\buildkite-windows-cpu-autoscaling-group-i-0015a694724fa8361-1\\xgboost\\xgboost-ci-windows\\src\\learner.cc:740: \n",
      "Parameters: { \"use_label_encoder\" } are not used.\n",
      "\n",
      "  warnings.warn(smsg, UserWarning)\n"
     ]
    },
    {
     "name": "stderr",
     "output_type": "stream",
     "text": [
      "C:\\Users\\msnp\\AppData\\Local\\pypoetry\\Cache\\virtualenvs\\kaggle-agent-poet-2ai3UW1A-py3.12\\Lib\\site-packages\\xgboost\\core.py:158: UserWarning: [14:58:06] WARNING: C:\\buildkite-agent\\builds\\buildkite-windows-cpu-autoscaling-group-i-0015a694724fa8361-1\\xgboost\\xgboost-ci-windows\\src\\learner.cc:740: \n",
      "Parameters: { \"use_label_encoder\" } are not used.\n",
      "\n",
      "  warnings.warn(smsg, UserWarning)\n"
     ]
    },
    {
     "name": "stderr",
     "output_type": "stream",
     "text": [
      "C:\\Users\\msnp\\AppData\\Local\\pypoetry\\Cache\\virtualenvs\\kaggle-agent-poet-2ai3UW1A-py3.12\\Lib\\site-packages\\xgboost\\core.py:158: UserWarning: [14:58:07] WARNING: C:\\buildkite-agent\\builds\\buildkite-windows-cpu-autoscaling-group-i-0015a694724fa8361-1\\xgboost\\xgboost-ci-windows\\src\\learner.cc:740: \n",
      "Parameters: { \"use_label_encoder\" } are not used.\n",
      "\n",
      "  warnings.warn(smsg, UserWarning)\n"
     ]
    },
    {
     "name": "stderr",
     "output_type": "stream",
     "text": [
      "C:\\Users\\msnp\\AppData\\Local\\pypoetry\\Cache\\virtualenvs\\kaggle-agent-poet-2ai3UW1A-py3.12\\Lib\\site-packages\\xgboost\\core.py:158: UserWarning: [14:58:08] WARNING: C:\\buildkite-agent\\builds\\buildkite-windows-cpu-autoscaling-group-i-0015a694724fa8361-1\\xgboost\\xgboost-ci-windows\\src\\learner.cc:740: \n",
      "Parameters: { \"use_label_encoder\" } are not used.\n",
      "\n",
      "  warnings.warn(smsg, UserWarning)\n"
     ]
    },
    {
     "name": "stderr",
     "output_type": "stream",
     "text": [
      "C:\\Users\\msnp\\AppData\\Local\\pypoetry\\Cache\\virtualenvs\\kaggle-agent-poet-2ai3UW1A-py3.12\\Lib\\site-packages\\xgboost\\core.py:158: UserWarning: [14:58:08] WARNING: C:\\buildkite-agent\\builds\\buildkite-windows-cpu-autoscaling-group-i-0015a694724fa8361-1\\xgboost\\xgboost-ci-windows\\src\\learner.cc:740: \n",
      "Parameters: { \"use_label_encoder\" } are not used.\n",
      "\n",
      "  warnings.warn(smsg, UserWarning)\n"
     ]
    },
    {
     "name": "stderr",
     "output_type": "stream",
     "text": [
      "C:\\Users\\msnp\\AppData\\Local\\pypoetry\\Cache\\virtualenvs\\kaggle-agent-poet-2ai3UW1A-py3.12\\Lib\\site-packages\\xgboost\\core.py:158: UserWarning: [14:58:09] WARNING: C:\\buildkite-agent\\builds\\buildkite-windows-cpu-autoscaling-group-i-0015a694724fa8361-1\\xgboost\\xgboost-ci-windows\\src\\learner.cc:740: \n",
      "Parameters: { \"use_label_encoder\" } are not used.\n",
      "\n",
      "  warnings.warn(smsg, UserWarning)\n"
     ]
    },
    {
     "name": "stderr",
     "output_type": "stream",
     "text": [
      "C:\\Users\\msnp\\AppData\\Local\\pypoetry\\Cache\\virtualenvs\\kaggle-agent-poet-2ai3UW1A-py3.12\\Lib\\site-packages\\xgboost\\core.py:158: UserWarning: [14:58:11] WARNING: C:\\buildkite-agent\\builds\\buildkite-windows-cpu-autoscaling-group-i-0015a694724fa8361-1\\xgboost\\xgboost-ci-windows\\src\\learner.cc:740: \n",
      "Parameters: { \"use_label_encoder\" } are not used.\n",
      "\n",
      "  warnings.warn(smsg, UserWarning)\n"
     ]
    },
    {
     "name": "stderr",
     "output_type": "stream",
     "text": [
      "C:\\Users\\msnp\\AppData\\Local\\pypoetry\\Cache\\virtualenvs\\kaggle-agent-poet-2ai3UW1A-py3.12\\Lib\\site-packages\\xgboost\\core.py:158: UserWarning: [14:58:12] WARNING: C:\\buildkite-agent\\builds\\buildkite-windows-cpu-autoscaling-group-i-0015a694724fa8361-1\\xgboost\\xgboost-ci-windows\\src\\learner.cc:740: \n",
      "Parameters: { \"use_label_encoder\" } are not used.\n",
      "\n",
      "  warnings.warn(smsg, UserWarning)\n",
      "C:\\Users\\msnp\\AppData\\Local\\pypoetry\\Cache\\virtualenvs\\kaggle-agent-poet-2ai3UW1A-py3.12\\Lib\\site-packages\\xgboost\\core.py:158: UserWarning: [14:58:12] WARNING: C:\\buildkite-agent\\builds\\buildkite-windows-cpu-autoscaling-group-i-0015a694724fa8361-1\\xgboost\\xgboost-ci-windows\\src\\learner.cc:740: \n",
      "Parameters: { \"use_label_encoder\" } are not used.\n",
      "\n",
      "  warnings.warn(smsg, UserWarning)\n"
     ]
    },
    {
     "name": "stderr",
     "output_type": "stream",
     "text": [
      "C:\\Users\\msnp\\AppData\\Local\\pypoetry\\Cache\\virtualenvs\\kaggle-agent-poet-2ai3UW1A-py3.12\\Lib\\site-packages\\xgboost\\core.py:158: UserWarning: [14:58:12] WARNING: C:\\buildkite-agent\\builds\\buildkite-windows-cpu-autoscaling-group-i-0015a694724fa8361-1\\xgboost\\xgboost-ci-windows\\src\\learner.cc:740: \n",
      "Parameters: { \"use_label_encoder\" } are not used.\n",
      "\n",
      "  warnings.warn(smsg, UserWarning)\n",
      "C:\\Users\\msnp\\AppData\\Local\\pypoetry\\Cache\\virtualenvs\\kaggle-agent-poet-2ai3UW1A-py3.12\\Lib\\site-packages\\xgboost\\core.py:158: UserWarning: [14:58:12] WARNING: C:\\buildkite-agent\\builds\\buildkite-windows-cpu-autoscaling-group-i-0015a694724fa8361-1\\xgboost\\xgboost-ci-windows\\src\\learner.cc:740: \n",
      "Parameters: { \"use_label_encoder\" } are not used.\n",
      "\n",
      "  warnings.warn(smsg, UserWarning)\n"
     ]
    },
    {
     "name": "stderr",
     "output_type": "stream",
     "text": [
      "C:\\Users\\msnp\\AppData\\Local\\pypoetry\\Cache\\virtualenvs\\kaggle-agent-poet-2ai3UW1A-py3.12\\Lib\\site-packages\\xgboost\\core.py:158: UserWarning: [14:58:13] WARNING: C:\\buildkite-agent\\builds\\buildkite-windows-cpu-autoscaling-group-i-0015a694724fa8361-1\\xgboost\\xgboost-ci-windows\\src\\learner.cc:740: \n",
      "Parameters: { \"use_label_encoder\" } are not used.\n",
      "\n",
      "  warnings.warn(smsg, UserWarning)\n"
     ]
    },
    {
     "name": "stderr",
     "output_type": "stream",
     "text": [
      "C:\\Users\\msnp\\AppData\\Local\\pypoetry\\Cache\\virtualenvs\\kaggle-agent-poet-2ai3UW1A-py3.12\\Lib\\site-packages\\xgboost\\core.py:158: UserWarning: [14:58:13] WARNING: C:\\buildkite-agent\\builds\\buildkite-windows-cpu-autoscaling-group-i-0015a694724fa8361-1\\xgboost\\xgboost-ci-windows\\src\\learner.cc:740: \n",
      "Parameters: { \"use_label_encoder\" } are not used.\n",
      "\n",
      "  warnings.warn(smsg, UserWarning)\n"
     ]
    },
    {
     "name": "stderr",
     "output_type": "stream",
     "text": [
      "C:\\Users\\msnp\\AppData\\Local\\pypoetry\\Cache\\virtualenvs\\kaggle-agent-poet-2ai3UW1A-py3.12\\Lib\\site-packages\\xgboost\\core.py:158: UserWarning: [14:58:13] WARNING: C:\\buildkite-agent\\builds\\buildkite-windows-cpu-autoscaling-group-i-0015a694724fa8361-1\\xgboost\\xgboost-ci-windows\\src\\learner.cc:740: \n",
      "Parameters: { \"use_label_encoder\" } are not used.\n",
      "\n",
      "  warnings.warn(smsg, UserWarning)\n"
     ]
    },
    {
     "name": "stderr",
     "output_type": "stream",
     "text": [
      "C:\\Users\\msnp\\AppData\\Local\\pypoetry\\Cache\\virtualenvs\\kaggle-agent-poet-2ai3UW1A-py3.12\\Lib\\site-packages\\xgboost\\core.py:158: UserWarning: [14:58:13] WARNING: C:\\buildkite-agent\\builds\\buildkite-windows-cpu-autoscaling-group-i-0015a694724fa8361-1\\xgboost\\xgboost-ci-windows\\src\\learner.cc:740: \n",
      "Parameters: { \"use_label_encoder\" } are not used.\n",
      "\n",
      "  warnings.warn(smsg, UserWarning)\n"
     ]
    },
    {
     "name": "stderr",
     "output_type": "stream",
     "text": [
      "C:\\Users\\msnp\\AppData\\Local\\pypoetry\\Cache\\virtualenvs\\kaggle-agent-poet-2ai3UW1A-py3.12\\Lib\\site-packages\\xgboost\\core.py:158: UserWarning: [14:58:14] WARNING: C:\\buildkite-agent\\builds\\buildkite-windows-cpu-autoscaling-group-i-0015a694724fa8361-1\\xgboost\\xgboost-ci-windows\\src\\learner.cc:740: \n",
      "Parameters: { \"use_label_encoder\" } are not used.\n",
      "\n",
      "  warnings.warn(smsg, UserWarning)\n"
     ]
    },
    {
     "name": "stderr",
     "output_type": "stream",
     "text": [
      "C:\\Users\\msnp\\AppData\\Local\\pypoetry\\Cache\\virtualenvs\\kaggle-agent-poet-2ai3UW1A-py3.12\\Lib\\site-packages\\xgboost\\core.py:158: UserWarning: [14:58:14] WARNING: C:\\buildkite-agent\\builds\\buildkite-windows-cpu-autoscaling-group-i-0015a694724fa8361-1\\xgboost\\xgboost-ci-windows\\src\\learner.cc:740: \n",
      "Parameters: { \"use_label_encoder\" } are not used.\n",
      "\n",
      "  warnings.warn(smsg, UserWarning)\n"
     ]
    },
    {
     "name": "stderr",
     "output_type": "stream",
     "text": [
      "C:\\Users\\msnp\\AppData\\Local\\pypoetry\\Cache\\virtualenvs\\kaggle-agent-poet-2ai3UW1A-py3.12\\Lib\\site-packages\\xgboost\\core.py:158: UserWarning: [14:58:14] WARNING: C:\\buildkite-agent\\builds\\buildkite-windows-cpu-autoscaling-group-i-0015a694724fa8361-1\\xgboost\\xgboost-ci-windows\\src\\learner.cc:740: \n",
      "Parameters: { \"use_label_encoder\" } are not used.\n",
      "\n",
      "  warnings.warn(smsg, UserWarning)\n"
     ]
    },
    {
     "name": "stderr",
     "output_type": "stream",
     "text": [
      "C:\\Users\\msnp\\AppData\\Local\\pypoetry\\Cache\\virtualenvs\\kaggle-agent-poet-2ai3UW1A-py3.12\\Lib\\site-packages\\xgboost\\core.py:158: UserWarning: [14:58:15] WARNING: C:\\buildkite-agent\\builds\\buildkite-windows-cpu-autoscaling-group-i-0015a694724fa8361-1\\xgboost\\xgboost-ci-windows\\src\\learner.cc:740: \n",
      "Parameters: { \"use_label_encoder\" } are not used.\n",
      "\n",
      "  warnings.warn(smsg, UserWarning)\n"
     ]
    },
    {
     "name": "stderr",
     "output_type": "stream",
     "text": [
      "C:\\Users\\msnp\\AppData\\Local\\pypoetry\\Cache\\virtualenvs\\kaggle-agent-poet-2ai3UW1A-py3.12\\Lib\\site-packages\\xgboost\\core.py:158: UserWarning: [14:58:15] WARNING: C:\\buildkite-agent\\builds\\buildkite-windows-cpu-autoscaling-group-i-0015a694724fa8361-1\\xgboost\\xgboost-ci-windows\\src\\learner.cc:740: \n",
      "Parameters: { \"use_label_encoder\" } are not used.\n",
      "\n",
      "  warnings.warn(smsg, UserWarning)\n"
     ]
    },
    {
     "name": "stderr",
     "output_type": "stream",
     "text": [
      "C:\\Users\\msnp\\AppData\\Local\\pypoetry\\Cache\\virtualenvs\\kaggle-agent-poet-2ai3UW1A-py3.12\\Lib\\site-packages\\xgboost\\core.py:158: UserWarning: [14:58:16] WARNING: C:\\buildkite-agent\\builds\\buildkite-windows-cpu-autoscaling-group-i-0015a694724fa8361-1\\xgboost\\xgboost-ci-windows\\src\\learner.cc:740: \n",
      "Parameters: { \"use_label_encoder\" } are not used.\n",
      "\n",
      "  warnings.warn(smsg, UserWarning)\n"
     ]
    },
    {
     "name": "stderr",
     "output_type": "stream",
     "text": [
      "C:\\Users\\msnp\\AppData\\Local\\pypoetry\\Cache\\virtualenvs\\kaggle-agent-poet-2ai3UW1A-py3.12\\Lib\\site-packages\\xgboost\\core.py:158: UserWarning: [14:58:16] WARNING: C:\\buildkite-agent\\builds\\buildkite-windows-cpu-autoscaling-group-i-0015a694724fa8361-1\\xgboost\\xgboost-ci-windows\\src\\learner.cc:740: \n",
      "Parameters: { \"use_label_encoder\" } are not used.\n",
      "\n",
      "  warnings.warn(smsg, UserWarning)\n"
     ]
    },
    {
     "name": "stderr",
     "output_type": "stream",
     "text": [
      "C:\\Users\\msnp\\AppData\\Local\\pypoetry\\Cache\\virtualenvs\\kaggle-agent-poet-2ai3UW1A-py3.12\\Lib\\site-packages\\xgboost\\core.py:158: UserWarning: [14:58:16] WARNING: C:\\buildkite-agent\\builds\\buildkite-windows-cpu-autoscaling-group-i-0015a694724fa8361-1\\xgboost\\xgboost-ci-windows\\src\\learner.cc:740: \n",
      "Parameters: { \"use_label_encoder\" } are not used.\n",
      "\n",
      "  warnings.warn(smsg, UserWarning)\n"
     ]
    },
    {
     "name": "stderr",
     "output_type": "stream",
     "text": [
      "C:\\Users\\msnp\\AppData\\Local\\pypoetry\\Cache\\virtualenvs\\kaggle-agent-poet-2ai3UW1A-py3.12\\Lib\\site-packages\\xgboost\\core.py:158: UserWarning: [14:58:17] WARNING: C:\\buildkite-agent\\builds\\buildkite-windows-cpu-autoscaling-group-i-0015a694724fa8361-1\\xgboost\\xgboost-ci-windows\\src\\learner.cc:740: \n",
      "Parameters: { \"use_label_encoder\" } are not used.\n",
      "\n",
      "  warnings.warn(smsg, UserWarning)\n"
     ]
    },
    {
     "name": "stderr",
     "output_type": "stream",
     "text": [
      "C:\\Users\\msnp\\AppData\\Local\\pypoetry\\Cache\\virtualenvs\\kaggle-agent-poet-2ai3UW1A-py3.12\\Lib\\site-packages\\xgboost\\core.py:158: UserWarning: [14:58:18] WARNING: C:\\buildkite-agent\\builds\\buildkite-windows-cpu-autoscaling-group-i-0015a694724fa8361-1\\xgboost\\xgboost-ci-windows\\src\\learner.cc:740: \n",
      "Parameters: { \"use_label_encoder\" } are not used.\n",
      "\n",
      "  warnings.warn(smsg, UserWarning)\n"
     ]
    },
    {
     "name": "stderr",
     "output_type": "stream",
     "text": [
      "C:\\Users\\msnp\\AppData\\Local\\pypoetry\\Cache\\virtualenvs\\kaggle-agent-poet-2ai3UW1A-py3.12\\Lib\\site-packages\\xgboost\\core.py:158: UserWarning: [14:58:18] WARNING: C:\\buildkite-agent\\builds\\buildkite-windows-cpu-autoscaling-group-i-0015a694724fa8361-1\\xgboost\\xgboost-ci-windows\\src\\learner.cc:740: \n",
      "Parameters: { \"use_label_encoder\" } are not used.\n",
      "\n",
      "  warnings.warn(smsg, UserWarning)\n",
      "C:\\Users\\msnp\\AppData\\Local\\pypoetry\\Cache\\virtualenvs\\kaggle-agent-poet-2ai3UW1A-py3.12\\Lib\\site-packages\\xgboost\\core.py:158: UserWarning: [14:58:18] WARNING: C:\\buildkite-agent\\builds\\buildkite-windows-cpu-autoscaling-group-i-0015a694724fa8361-1\\xgboost\\xgboost-ci-windows\\src\\learner.cc:740: \n",
      "Parameters: { \"use_label_encoder\" } are not used.\n",
      "\n",
      "  warnings.warn(smsg, UserWarning)\n"
     ]
    },
    {
     "name": "stderr",
     "output_type": "stream",
     "text": [
      "C:\\Users\\msnp\\AppData\\Local\\pypoetry\\Cache\\virtualenvs\\kaggle-agent-poet-2ai3UW1A-py3.12\\Lib\\site-packages\\xgboost\\core.py:158: UserWarning: [14:58:18] WARNING: C:\\buildkite-agent\\builds\\buildkite-windows-cpu-autoscaling-group-i-0015a694724fa8361-1\\xgboost\\xgboost-ci-windows\\src\\learner.cc:740: \n",
      "Parameters: { \"use_label_encoder\" } are not used.\n",
      "\n",
      "  warnings.warn(smsg, UserWarning)\n",
      "C:\\Users\\msnp\\AppData\\Local\\pypoetry\\Cache\\virtualenvs\\kaggle-agent-poet-2ai3UW1A-py3.12\\Lib\\site-packages\\xgboost\\core.py:158: UserWarning: [14:58:18] WARNING: C:\\buildkite-agent\\builds\\buildkite-windows-cpu-autoscaling-group-i-0015a694724fa8361-1\\xgboost\\xgboost-ci-windows\\src\\learner.cc:740: \n",
      "Parameters: { \"use_label_encoder\" } are not used.\n",
      "\n",
      "  warnings.warn(smsg, UserWarning)\n"
     ]
    },
    {
     "name": "stderr",
     "output_type": "stream",
     "text": [
      "C:\\Users\\msnp\\AppData\\Local\\pypoetry\\Cache\\virtualenvs\\kaggle-agent-poet-2ai3UW1A-py3.12\\Lib\\site-packages\\xgboost\\core.py:158: UserWarning: [14:58:19] WARNING: C:\\buildkite-agent\\builds\\buildkite-windows-cpu-autoscaling-group-i-0015a694724fa8361-1\\xgboost\\xgboost-ci-windows\\src\\learner.cc:740: \n",
      "Parameters: { \"use_label_encoder\" } are not used.\n",
      "\n",
      "  warnings.warn(smsg, UserWarning)\n",
      "C:\\Users\\msnp\\AppData\\Local\\pypoetry\\Cache\\virtualenvs\\kaggle-agent-poet-2ai3UW1A-py3.12\\Lib\\site-packages\\xgboost\\core.py:158: UserWarning: [14:58:19] WARNING: C:\\buildkite-agent\\builds\\buildkite-windows-cpu-autoscaling-group-i-0015a694724fa8361-1\\xgboost\\xgboost-ci-windows\\src\\learner.cc:740: \n",
      "Parameters: { \"use_label_encoder\" } are not used.\n",
      "\n",
      "  warnings.warn(smsg, UserWarning)\n"
     ]
    },
    {
     "name": "stderr",
     "output_type": "stream",
     "text": [
      "C:\\Users\\msnp\\AppData\\Local\\pypoetry\\Cache\\virtualenvs\\kaggle-agent-poet-2ai3UW1A-py3.12\\Lib\\site-packages\\xgboost\\core.py:158: UserWarning: [14:58:19] WARNING: C:\\buildkite-agent\\builds\\buildkite-windows-cpu-autoscaling-group-i-0015a694724fa8361-1\\xgboost\\xgboost-ci-windows\\src\\learner.cc:740: \n",
      "Parameters: { \"use_label_encoder\" } are not used.\n",
      "\n",
      "  warnings.warn(smsg, UserWarning)\n",
      "C:\\Users\\msnp\\AppData\\Local\\pypoetry\\Cache\\virtualenvs\\kaggle-agent-poet-2ai3UW1A-py3.12\\Lib\\site-packages\\xgboost\\core.py:158: UserWarning: [14:58:19] WARNING: C:\\buildkite-agent\\builds\\buildkite-windows-cpu-autoscaling-group-i-0015a694724fa8361-1\\xgboost\\xgboost-ci-windows\\src\\learner.cc:740: \n",
      "Parameters: { \"use_label_encoder\" } are not used.\n",
      "\n",
      "  warnings.warn(smsg, UserWarning)\n"
     ]
    },
    {
     "name": "stderr",
     "output_type": "stream",
     "text": [
      "C:\\Users\\msnp\\AppData\\Local\\pypoetry\\Cache\\virtualenvs\\kaggle-agent-poet-2ai3UW1A-py3.12\\Lib\\site-packages\\xgboost\\core.py:158: UserWarning: [14:58:19] WARNING: C:\\buildkite-agent\\builds\\buildkite-windows-cpu-autoscaling-group-i-0015a694724fa8361-1\\xgboost\\xgboost-ci-windows\\src\\learner.cc:740: \n",
      "Parameters: { \"use_label_encoder\" } are not used.\n",
      "\n",
      "  warnings.warn(smsg, UserWarning)\n"
     ]
    },
    {
     "name": "stderr",
     "output_type": "stream",
     "text": [
      "C:\\Users\\msnp\\AppData\\Local\\pypoetry\\Cache\\virtualenvs\\kaggle-agent-poet-2ai3UW1A-py3.12\\Lib\\site-packages\\xgboost\\core.py:158: UserWarning: [14:58:20] WARNING: C:\\buildkite-agent\\builds\\buildkite-windows-cpu-autoscaling-group-i-0015a694724fa8361-1\\xgboost\\xgboost-ci-windows\\src\\learner.cc:740: \n",
      "Parameters: { \"use_label_encoder\" } are not used.\n",
      "\n",
      "  warnings.warn(smsg, UserWarning)\n"
     ]
    },
    {
     "name": "stderr",
     "output_type": "stream",
     "text": [
      "C:\\Users\\msnp\\AppData\\Local\\pypoetry\\Cache\\virtualenvs\\kaggle-agent-poet-2ai3UW1A-py3.12\\Lib\\site-packages\\xgboost\\core.py:158: UserWarning: [14:58:20] WARNING: C:\\buildkite-agent\\builds\\buildkite-windows-cpu-autoscaling-group-i-0015a694724fa8361-1\\xgboost\\xgboost-ci-windows\\src\\learner.cc:740: \n",
      "Parameters: { \"use_label_encoder\" } are not used.\n",
      "\n",
      "  warnings.warn(smsg, UserWarning)\n"
     ]
    },
    {
     "name": "stderr",
     "output_type": "stream",
     "text": [
      "C:\\Users\\msnp\\AppData\\Local\\pypoetry\\Cache\\virtualenvs\\kaggle-agent-poet-2ai3UW1A-py3.12\\Lib\\site-packages\\xgboost\\core.py:158: UserWarning: [14:58:20] WARNING: C:\\buildkite-agent\\builds\\buildkite-windows-cpu-autoscaling-group-i-0015a694724fa8361-1\\xgboost\\xgboost-ci-windows\\src\\learner.cc:740: \n",
      "Parameters: { \"use_label_encoder\" } are not used.\n",
      "\n",
      "  warnings.warn(smsg, UserWarning)\n"
     ]
    },
    {
     "name": "stderr",
     "output_type": "stream",
     "text": [
      "C:\\Users\\msnp\\AppData\\Local\\pypoetry\\Cache\\virtualenvs\\kaggle-agent-poet-2ai3UW1A-py3.12\\Lib\\site-packages\\xgboost\\core.py:158: UserWarning: [14:58:21] WARNING: C:\\buildkite-agent\\builds\\buildkite-windows-cpu-autoscaling-group-i-0015a694724fa8361-1\\xgboost\\xgboost-ci-windows\\src\\learner.cc:740: \n",
      "Parameters: { \"use_label_encoder\" } are not used.\n",
      "\n",
      "  warnings.warn(smsg, UserWarning)\n"
     ]
    },
    {
     "name": "stderr",
     "output_type": "stream",
     "text": [
      "C:\\Users\\msnp\\AppData\\Local\\pypoetry\\Cache\\virtualenvs\\kaggle-agent-poet-2ai3UW1A-py3.12\\Lib\\site-packages\\xgboost\\core.py:158: UserWarning: [14:58:21] WARNING: C:\\buildkite-agent\\builds\\buildkite-windows-cpu-autoscaling-group-i-0015a694724fa8361-1\\xgboost\\xgboost-ci-windows\\src\\learner.cc:740: \n",
      "Parameters: { \"use_label_encoder\" } are not used.\n",
      "\n",
      "  warnings.warn(smsg, UserWarning)\n"
     ]
    },
    {
     "name": "stderr",
     "output_type": "stream",
     "text": [
      "C:\\Users\\msnp\\AppData\\Local\\pypoetry\\Cache\\virtualenvs\\kaggle-agent-poet-2ai3UW1A-py3.12\\Lib\\site-packages\\xgboost\\core.py:158: UserWarning: [14:58:21] WARNING: C:\\buildkite-agent\\builds\\buildkite-windows-cpu-autoscaling-group-i-0015a694724fa8361-1\\xgboost\\xgboost-ci-windows\\src\\learner.cc:740: \n",
      "Parameters: { \"use_label_encoder\" } are not used.\n",
      "\n",
      "  warnings.warn(smsg, UserWarning)\n"
     ]
    },
    {
     "name": "stderr",
     "output_type": "stream",
     "text": [
      "C:\\Users\\msnp\\AppData\\Local\\pypoetry\\Cache\\virtualenvs\\kaggle-agent-poet-2ai3UW1A-py3.12\\Lib\\site-packages\\xgboost\\core.py:158: UserWarning: [14:58:22] WARNING: C:\\buildkite-agent\\builds\\buildkite-windows-cpu-autoscaling-group-i-0015a694724fa8361-1\\xgboost\\xgboost-ci-windows\\src\\learner.cc:740: \n",
      "Parameters: { \"use_label_encoder\" } are not used.\n",
      "\n",
      "  warnings.warn(smsg, UserWarning)\n"
     ]
    },
    {
     "name": "stderr",
     "output_type": "stream",
     "text": [
      "C:\\Users\\msnp\\AppData\\Local\\pypoetry\\Cache\\virtualenvs\\kaggle-agent-poet-2ai3UW1A-py3.12\\Lib\\site-packages\\xgboost\\core.py:158: UserWarning: [14:58:22] WARNING: C:\\buildkite-agent\\builds\\buildkite-windows-cpu-autoscaling-group-i-0015a694724fa8361-1\\xgboost\\xgboost-ci-windows\\src\\learner.cc:740: \n",
      "Parameters: { \"use_label_encoder\" } are not used.\n",
      "\n",
      "  warnings.warn(smsg, UserWarning)\n"
     ]
    },
    {
     "name": "stderr",
     "output_type": "stream",
     "text": [
      "C:\\Users\\msnp\\AppData\\Local\\pypoetry\\Cache\\virtualenvs\\kaggle-agent-poet-2ai3UW1A-py3.12\\Lib\\site-packages\\xgboost\\core.py:158: UserWarning: [14:58:23] WARNING: C:\\buildkite-agent\\builds\\buildkite-windows-cpu-autoscaling-group-i-0015a694724fa8361-1\\xgboost\\xgboost-ci-windows\\src\\learner.cc:740: \n",
      "Parameters: { \"use_label_encoder\" } are not used.\n",
      "\n",
      "  warnings.warn(smsg, UserWarning)\n"
     ]
    },
    {
     "name": "stderr",
     "output_type": "stream",
     "text": [
      "C:\\Users\\msnp\\AppData\\Local\\pypoetry\\Cache\\virtualenvs\\kaggle-agent-poet-2ai3UW1A-py3.12\\Lib\\site-packages\\xgboost\\core.py:158: UserWarning: [14:58:23] WARNING: C:\\buildkite-agent\\builds\\buildkite-windows-cpu-autoscaling-group-i-0015a694724fa8361-1\\xgboost\\xgboost-ci-windows\\src\\learner.cc:740: \n",
      "Parameters: { \"use_label_encoder\" } are not used.\n",
      "\n",
      "  warnings.warn(smsg, UserWarning)\n",
      "C:\\Users\\msnp\\AppData\\Local\\pypoetry\\Cache\\virtualenvs\\kaggle-agent-poet-2ai3UW1A-py3.12\\Lib\\site-packages\\xgboost\\core.py:158: UserWarning: [14:58:24] WARNING: C:\\buildkite-agent\\builds\\buildkite-windows-cpu-autoscaling-group-i-0015a694724fa8361-1\\xgboost\\xgboost-ci-windows\\src\\learner.cc:740: \n",
      "Parameters: { \"use_label_encoder\" } are not used.\n",
      "\n",
      "  warnings.warn(smsg, UserWarning)\n"
     ]
    },
    {
     "name": "stdout",
     "output_type": "stream",
     "text": [
      "Best XGBoost Model Validation Accuracy: 0.7798\n"
     ]
    }
   ],
   "source": [
    "import pandas as pd\n",
    "import numpy as np\n",
    "from sklearn.impute import SimpleImputer\n",
    "from sklearn.preprocessing import OneHotEncoder, StandardScaler\n",
    "from sklearn.compose import ColumnTransformer\n",
    "from sklearn.pipeline import Pipeline\n",
    "from sklearn.model_selection import train_test_split, GridSearchCV\n",
    "from sklearn.ensemble import RandomForestClassifier\n",
    "from xgboost import XGBClassifier\n",
    "from sklearn.metrics import accuracy_score\n",
    "import matplotlib.pyplot as plt\n",
    "import seaborn as sns\n",
    "\n",
    "# Load the datasets\n",
    "train_df = pd.read_csv(\"./input/train.csv\")\n",
    "test_df = pd.read_csv(\"./input/test.csv\")\n",
    "\n",
    "# Define the target variable and features\n",
    "target = \"Transported\"\n",
    "features = train_df.columns.drop([target, \"PassengerId\", \"Name\"])\n",
    "\n",
    "# Identify categorical and numerical columns\n",
    "categorical_cols = [\"HomePlanet\", \"CryoSleep\", \"Cabin\", \"Destination\", \"VIP\"]\n",
    "numerical_cols = [\"Age\", \"RoomService\", \"FoodCourt\", \"ShoppingMall\", \"Spa\", \"VRDeck\"]\n",
    "\n",
    "# Preprocessing pipeline\n",
    "preprocessor = ColumnTransformer(\n",
    "    transformers=[\n",
    "        (\n",
    "            \"num\",\n",
    "            Pipeline(\n",
    "                steps=[\n",
    "                    (\"imputer\", SimpleImputer(strategy=\"mean\")),\n",
    "                    (\"scaler\", StandardScaler()),\n",
    "                ]\n",
    "            ),\n",
    "            numerical_cols,\n",
    "        ),\n",
    "        (\n",
    "            \"cat\",\n",
    "            Pipeline(\n",
    "                steps=[\n",
    "                    (\"imputer\", SimpleImputer(strategy=\"most_frequent\")),\n",
    "                    (\"encoder\", OneHotEncoder(handle_unknown=\"ignore\")),\n",
    "                ]\n",
    "            ),\n",
    "            categorical_cols,\n",
    "        ),\n",
    "    ]\n",
    ")\n",
    "\n",
    "# Split the data into training and validation sets\n",
    "X = preprocessor.fit_transform(train_df[features])\n",
    "y = train_df[target]\n",
    "X_train, X_val, y_train, y_val = train_test_split(X, y, test_size=0.2, random_state=42)\n",
    "\n",
    "\n",
    "# Function to train and evaluate a model\n",
    "def train_and_evaluate_model(model, X_train, y_train, X_val, y_val):\n",
    "    model.fit(X_train, y_train)\n",
    "    y_pred = model.predict(X_val)\n",
    "    accuracy = accuracy_score(y_val, y_pred)\n",
    "    return accuracy\n",
    "\n",
    "\n",
    "# Define models to evaluate\n",
    "models = {\n",
    "    \"Random Forest\": RandomForestClassifier(random_state=42),\n",
    "    \"XGBoost\": XGBClassifier(use_label_encoder=False, eval_metric=\"logloss\"),\n",
    "}\n",
    "\n",
    "# Evaluate each model\n",
    "for model_name, model in models.items():\n",
    "    accuracy = train_and_evaluate_model(model, X_train, y_train, X_val, y_val)\n",
    "    print(f\"{model_name} Validation Accuracy: {accuracy:.4f}\")\n",
    "\n",
    "# Hyperparameter tuning for XGBoost\n",
    "param_grid = {\n",
    "    \"n_estimators\": [100, 200],\n",
    "    \"max_depth\": [3, 5, 7],\n",
    "    \"learning_rate\": [0.01, 0.1, 0.2],\n",
    "}\n",
    "\n",
    "grid_search = GridSearchCV(\n",
    "    XGBClassifier(use_label_encoder=False, eval_metric=\"logloss\"),\n",
    "    param_grid,\n",
    "    cv=3,\n",
    "    scoring=\"accuracy\",\n",
    "    verbose=1,\n",
    ")\n",
    "grid_search.fit(X_train, y_train)\n",
    "\n",
    "# Best model from grid search\n",
    "best_model = grid_search.best_estimator_\n",
    "best_accuracy = train_and_evaluate_model(best_model, X_train, y_train, X_val, y_val)\n",
    "print(f\"Best XGBoost Model Validation Accuracy: {best_accuracy:.4f}\")\n",
    "\n",
    "# Transform the test data\n",
    "X_test = preprocessor.transform(test_df[features])\n",
    "\n",
    "# Make predictions on the test set\n",
    "test_predictions = best_model.predict(X_test)\n",
    "\n",
    "# Prepare submission DataFrame\n",
    "submission_df = pd.DataFrame(\n",
    "    {\"PassengerId\": test_df[\"PassengerId\"], \"Transported\": test_predictions}\n",
    ")\n",
    "\n",
    "# Save the submission file\n",
    "submission_df.to_csv(\"submission.csv\", index=False)"
   ]
  },
  {
   "cell_type": "code",
   "execution_count": null,
   "id": "0d803c29",
   "metadata": {},
   "outputs": [
    {
     "name": "stdout",
     "output_type": "stream",
     "text": [
      "Fitting 3 folds for each of 18 candidates, totalling 54 fits\n"
     ]
    },
    {
     "name": "stderr",
     "output_type": "stream",
     "text": [
      "C:\\Users\\msnp\\AppData\\Local\\pypoetry\\Cache\\virtualenvs\\kaggle-agent-poet-2ai3UW1A-py3.12\\Lib\\site-packages\\xgboost\\core.py:158: UserWarning: [14:58:55] WARNING: C:\\buildkite-agent\\builds\\buildkite-windows-cpu-autoscaling-group-i-0015a694724fa8361-1\\xgboost\\xgboost-ci-windows\\src\\learner.cc:740: \n",
      "Parameters: { \"use_label_encoder\" } are not used.\n",
      "\n",
      "  warnings.warn(smsg, UserWarning)\n",
      "C:\\Users\\msnp\\AppData\\Local\\pypoetry\\Cache\\virtualenvs\\kaggle-agent-poet-2ai3UW1A-py3.12\\Lib\\site-packages\\xgboost\\core.py:158: UserWarning: [14:58:55] WARNING: C:\\buildkite-agent\\builds\\buildkite-windows-cpu-autoscaling-group-i-0015a694724fa8361-1\\xgboost\\xgboost-ci-windows\\src\\learner.cc:740: \n",
      "Parameters: { \"use_label_encoder\" } are not used.\n",
      "\n",
      "  warnings.warn(smsg, UserWarning)\n"
     ]
    },
    {
     "name": "stderr",
     "output_type": "stream",
     "text": [
      "C:\\Users\\msnp\\AppData\\Local\\pypoetry\\Cache\\virtualenvs\\kaggle-agent-poet-2ai3UW1A-py3.12\\Lib\\site-packages\\xgboost\\core.py:158: UserWarning: [14:58:55] WARNING: C:\\buildkite-agent\\builds\\buildkite-windows-cpu-autoscaling-group-i-0015a694724fa8361-1\\xgboost\\xgboost-ci-windows\\src\\learner.cc:740: \n",
      "Parameters: { \"use_label_encoder\" } are not used.\n",
      "\n",
      "  warnings.warn(smsg, UserWarning)\n",
      "C:\\Users\\msnp\\AppData\\Local\\pypoetry\\Cache\\virtualenvs\\kaggle-agent-poet-2ai3UW1A-py3.12\\Lib\\site-packages\\xgboost\\core.py:158: UserWarning: [14:58:55] WARNING: C:\\buildkite-agent\\builds\\buildkite-windows-cpu-autoscaling-group-i-0015a694724fa8361-1\\xgboost\\xgboost-ci-windows\\src\\learner.cc:740: \n",
      "Parameters: { \"use_label_encoder\" } are not used.\n",
      "\n",
      "  warnings.warn(smsg, UserWarning)\n"
     ]
    },
    {
     "name": "stderr",
     "output_type": "stream",
     "text": [
      "C:\\Users\\msnp\\AppData\\Local\\pypoetry\\Cache\\virtualenvs\\kaggle-agent-poet-2ai3UW1A-py3.12\\Lib\\site-packages\\xgboost\\core.py:158: UserWarning: [14:58:55] WARNING: C:\\buildkite-agent\\builds\\buildkite-windows-cpu-autoscaling-group-i-0015a694724fa8361-1\\xgboost\\xgboost-ci-windows\\src\\learner.cc:740: \n",
      "Parameters: { \"use_label_encoder\" } are not used.\n",
      "\n",
      "  warnings.warn(smsg, UserWarning)\n",
      "C:\\Users\\msnp\\AppData\\Local\\pypoetry\\Cache\\virtualenvs\\kaggle-agent-poet-2ai3UW1A-py3.12\\Lib\\site-packages\\xgboost\\core.py:158: UserWarning: [14:58:55] WARNING: C:\\buildkite-agent\\builds\\buildkite-windows-cpu-autoscaling-group-i-0015a694724fa8361-1\\xgboost\\xgboost-ci-windows\\src\\learner.cc:740: \n",
      "Parameters: { \"use_label_encoder\" } are not used.\n",
      "\n",
      "  warnings.warn(smsg, UserWarning)\n"
     ]
    },
    {
     "name": "stderr",
     "output_type": "stream",
     "text": [
      "C:\\Users\\msnp\\AppData\\Local\\pypoetry\\Cache\\virtualenvs\\kaggle-agent-poet-2ai3UW1A-py3.12\\Lib\\site-packages\\xgboost\\core.py:158: UserWarning: [14:58:56] WARNING: C:\\buildkite-agent\\builds\\buildkite-windows-cpu-autoscaling-group-i-0015a694724fa8361-1\\xgboost\\xgboost-ci-windows\\src\\learner.cc:740: \n",
      "Parameters: { \"use_label_encoder\" } are not used.\n",
      "\n",
      "  warnings.warn(smsg, UserWarning)\n"
     ]
    },
    {
     "name": "stderr",
     "output_type": "stream",
     "text": [
      "C:\\Users\\msnp\\AppData\\Local\\pypoetry\\Cache\\virtualenvs\\kaggle-agent-poet-2ai3UW1A-py3.12\\Lib\\site-packages\\xgboost\\core.py:158: UserWarning: [14:58:56] WARNING: C:\\buildkite-agent\\builds\\buildkite-windows-cpu-autoscaling-group-i-0015a694724fa8361-1\\xgboost\\xgboost-ci-windows\\src\\learner.cc:740: \n",
      "Parameters: { \"use_label_encoder\" } are not used.\n",
      "\n",
      "  warnings.warn(smsg, UserWarning)\n"
     ]
    },
    {
     "name": "stderr",
     "output_type": "stream",
     "text": [
      "C:\\Users\\msnp\\AppData\\Local\\pypoetry\\Cache\\virtualenvs\\kaggle-agent-poet-2ai3UW1A-py3.12\\Lib\\site-packages\\xgboost\\core.py:158: UserWarning: [14:58:56] WARNING: C:\\buildkite-agent\\builds\\buildkite-windows-cpu-autoscaling-group-i-0015a694724fa8361-1\\xgboost\\xgboost-ci-windows\\src\\learner.cc:740: \n",
      "Parameters: { \"use_label_encoder\" } are not used.\n",
      "\n",
      "  warnings.warn(smsg, UserWarning)\n"
     ]
    },
    {
     "name": "stderr",
     "output_type": "stream",
     "text": [
      "C:\\Users\\msnp\\AppData\\Local\\pypoetry\\Cache\\virtualenvs\\kaggle-agent-poet-2ai3UW1A-py3.12\\Lib\\site-packages\\xgboost\\core.py:158: UserWarning: [14:58:56] WARNING: C:\\buildkite-agent\\builds\\buildkite-windows-cpu-autoscaling-group-i-0015a694724fa8361-1\\xgboost\\xgboost-ci-windows\\src\\learner.cc:740: \n",
      "Parameters: { \"use_label_encoder\" } are not used.\n",
      "\n",
      "  warnings.warn(smsg, UserWarning)\n"
     ]
    },
    {
     "name": "stderr",
     "output_type": "stream",
     "text": [
      "C:\\Users\\msnp\\AppData\\Local\\pypoetry\\Cache\\virtualenvs\\kaggle-agent-poet-2ai3UW1A-py3.12\\Lib\\site-packages\\xgboost\\core.py:158: UserWarning: [14:58:57] WARNING: C:\\buildkite-agent\\builds\\buildkite-windows-cpu-autoscaling-group-i-0015a694724fa8361-1\\xgboost\\xgboost-ci-windows\\src\\learner.cc:740: \n",
      "Parameters: { \"use_label_encoder\" } are not used.\n",
      "\n",
      "  warnings.warn(smsg, UserWarning)\n"
     ]
    },
    {
     "name": "stderr",
     "output_type": "stream",
     "text": [
      "C:\\Users\\msnp\\AppData\\Local\\pypoetry\\Cache\\virtualenvs\\kaggle-agent-poet-2ai3UW1A-py3.12\\Lib\\site-packages\\xgboost\\core.py:158: UserWarning: [14:58:57] WARNING: C:\\buildkite-agent\\builds\\buildkite-windows-cpu-autoscaling-group-i-0015a694724fa8361-1\\xgboost\\xgboost-ci-windows\\src\\learner.cc:740: \n",
      "Parameters: { \"use_label_encoder\" } are not used.\n",
      "\n",
      "  warnings.warn(smsg, UserWarning)\n"
     ]
    },
    {
     "name": "stderr",
     "output_type": "stream",
     "text": [
      "C:\\Users\\msnp\\AppData\\Local\\pypoetry\\Cache\\virtualenvs\\kaggle-agent-poet-2ai3UW1A-py3.12\\Lib\\site-packages\\xgboost\\core.py:158: UserWarning: [14:58:57] WARNING: C:\\buildkite-agent\\builds\\buildkite-windows-cpu-autoscaling-group-i-0015a694724fa8361-1\\xgboost\\xgboost-ci-windows\\src\\learner.cc:740: \n",
      "Parameters: { \"use_label_encoder\" } are not used.\n",
      "\n",
      "  warnings.warn(smsg, UserWarning)\n"
     ]
    },
    {
     "name": "stderr",
     "output_type": "stream",
     "text": [
      "C:\\Users\\msnp\\AppData\\Local\\pypoetry\\Cache\\virtualenvs\\kaggle-agent-poet-2ai3UW1A-py3.12\\Lib\\site-packages\\xgboost\\core.py:158: UserWarning: [14:58:58] WARNING: C:\\buildkite-agent\\builds\\buildkite-windows-cpu-autoscaling-group-i-0015a694724fa8361-1\\xgboost\\xgboost-ci-windows\\src\\learner.cc:740: \n",
      "Parameters: { \"use_label_encoder\" } are not used.\n",
      "\n",
      "  warnings.warn(smsg, UserWarning)\n"
     ]
    },
    {
     "name": "stderr",
     "output_type": "stream",
     "text": [
      "C:\\Users\\msnp\\AppData\\Local\\pypoetry\\Cache\\virtualenvs\\kaggle-agent-poet-2ai3UW1A-py3.12\\Lib\\site-packages\\xgboost\\core.py:158: UserWarning: [14:58:58] WARNING: C:\\buildkite-agent\\builds\\buildkite-windows-cpu-autoscaling-group-i-0015a694724fa8361-1\\xgboost\\xgboost-ci-windows\\src\\learner.cc:740: \n",
      "Parameters: { \"use_label_encoder\" } are not used.\n",
      "\n",
      "  warnings.warn(smsg, UserWarning)\n"
     ]
    },
    {
     "name": "stderr",
     "output_type": "stream",
     "text": [
      "C:\\Users\\msnp\\AppData\\Local\\pypoetry\\Cache\\virtualenvs\\kaggle-agent-poet-2ai3UW1A-py3.12\\Lib\\site-packages\\xgboost\\core.py:158: UserWarning: [14:58:59] WARNING: C:\\buildkite-agent\\builds\\buildkite-windows-cpu-autoscaling-group-i-0015a694724fa8361-1\\xgboost\\xgboost-ci-windows\\src\\learner.cc:740: \n",
      "Parameters: { \"use_label_encoder\" } are not used.\n",
      "\n",
      "  warnings.warn(smsg, UserWarning)\n"
     ]
    },
    {
     "name": "stderr",
     "output_type": "stream",
     "text": [
      "C:\\Users\\msnp\\AppData\\Local\\pypoetry\\Cache\\virtualenvs\\kaggle-agent-poet-2ai3UW1A-py3.12\\Lib\\site-packages\\xgboost\\core.py:158: UserWarning: [14:59:00] WARNING: C:\\buildkite-agent\\builds\\buildkite-windows-cpu-autoscaling-group-i-0015a694724fa8361-1\\xgboost\\xgboost-ci-windows\\src\\learner.cc:740: \n",
      "Parameters: { \"use_label_encoder\" } are not used.\n",
      "\n",
      "  warnings.warn(smsg, UserWarning)\n"
     ]
    },
    {
     "name": "stderr",
     "output_type": "stream",
     "text": [
      "C:\\Users\\msnp\\AppData\\Local\\pypoetry\\Cache\\virtualenvs\\kaggle-agent-poet-2ai3UW1A-py3.12\\Lib\\site-packages\\xgboost\\core.py:158: UserWarning: [14:59:01] WARNING: C:\\buildkite-agent\\builds\\buildkite-windows-cpu-autoscaling-group-i-0015a694724fa8361-1\\xgboost\\xgboost-ci-windows\\src\\learner.cc:740: \n",
      "Parameters: { \"use_label_encoder\" } are not used.\n",
      "\n",
      "  warnings.warn(smsg, UserWarning)\n"
     ]
    },
    {
     "name": "stderr",
     "output_type": "stream",
     "text": [
      "C:\\Users\\msnp\\AppData\\Local\\pypoetry\\Cache\\virtualenvs\\kaggle-agent-poet-2ai3UW1A-py3.12\\Lib\\site-packages\\xgboost\\core.py:158: UserWarning: [14:59:01] WARNING: C:\\buildkite-agent\\builds\\buildkite-windows-cpu-autoscaling-group-i-0015a694724fa8361-1\\xgboost\\xgboost-ci-windows\\src\\learner.cc:740: \n",
      "Parameters: { \"use_label_encoder\" } are not used.\n",
      "\n",
      "  warnings.warn(smsg, UserWarning)\n",
      "C:\\Users\\msnp\\AppData\\Local\\pypoetry\\Cache\\virtualenvs\\kaggle-agent-poet-2ai3UW1A-py3.12\\Lib\\site-packages\\xgboost\\core.py:158: UserWarning: [14:59:02] WARNING: C:\\buildkite-agent\\builds\\buildkite-windows-cpu-autoscaling-group-i-0015a694724fa8361-1\\xgboost\\xgboost-ci-windows\\src\\learner.cc:740: \n",
      "Parameters: { \"use_label_encoder\" } are not used.\n",
      "\n",
      "  warnings.warn(smsg, UserWarning)\n",
      "C:\\Users\\msnp\\AppData\\Local\\pypoetry\\Cache\\virtualenvs\\kaggle-agent-poet-2ai3UW1A-py3.12\\Lib\\site-packages\\xgboost\\core.py:158: UserWarning: [14:59:02] WARNING: C:\\buildkite-agent\\builds\\buildkite-windows-cpu-autoscaling-group-i-0015a694724fa8361-1\\xgboost\\xgboost-ci-windows\\src\\learner.cc:740: \n",
      "Parameters: { \"use_label_encoder\" } are not used.\n",
      "\n",
      "  warnings.warn(smsg, UserWarning)\n"
     ]
    },
    {
     "name": "stderr",
     "output_type": "stream",
     "text": [
      "C:\\Users\\msnp\\AppData\\Local\\pypoetry\\Cache\\virtualenvs\\kaggle-agent-poet-2ai3UW1A-py3.12\\Lib\\site-packages\\xgboost\\core.py:158: UserWarning: [14:59:02] WARNING: C:\\buildkite-agent\\builds\\buildkite-windows-cpu-autoscaling-group-i-0015a694724fa8361-1\\xgboost\\xgboost-ci-windows\\src\\learner.cc:740: \n",
      "Parameters: { \"use_label_encoder\" } are not used.\n",
      "\n",
      "  warnings.warn(smsg, UserWarning)\n",
      "C:\\Users\\msnp\\AppData\\Local\\pypoetry\\Cache\\virtualenvs\\kaggle-agent-poet-2ai3UW1A-py3.12\\Lib\\site-packages\\xgboost\\core.py:158: UserWarning: [14:59:02] WARNING: C:\\buildkite-agent\\builds\\buildkite-windows-cpu-autoscaling-group-i-0015a694724fa8361-1\\xgboost\\xgboost-ci-windows\\src\\learner.cc:740: \n",
      "Parameters: { \"use_label_encoder\" } are not used.\n",
      "\n",
      "  warnings.warn(smsg, UserWarning)\n"
     ]
    },
    {
     "name": "stderr",
     "output_type": "stream",
     "text": [
      "C:\\Users\\msnp\\AppData\\Local\\pypoetry\\Cache\\virtualenvs\\kaggle-agent-poet-2ai3UW1A-py3.12\\Lib\\site-packages\\xgboost\\core.py:158: UserWarning: [14:59:02] WARNING: C:\\buildkite-agent\\builds\\buildkite-windows-cpu-autoscaling-group-i-0015a694724fa8361-1\\xgboost\\xgboost-ci-windows\\src\\learner.cc:740: \n",
      "Parameters: { \"use_label_encoder\" } are not used.\n",
      "\n",
      "  warnings.warn(smsg, UserWarning)\n",
      "C:\\Users\\msnp\\AppData\\Local\\pypoetry\\Cache\\virtualenvs\\kaggle-agent-poet-2ai3UW1A-py3.12\\Lib\\site-packages\\xgboost\\core.py:158: UserWarning: [14:59:02] WARNING: C:\\buildkite-agent\\builds\\buildkite-windows-cpu-autoscaling-group-i-0015a694724fa8361-1\\xgboost\\xgboost-ci-windows\\src\\learner.cc:740: \n",
      "Parameters: { \"use_label_encoder\" } are not used.\n",
      "\n",
      "  warnings.warn(smsg, UserWarning)\n"
     ]
    },
    {
     "name": "stderr",
     "output_type": "stream",
     "text": [
      "C:\\Users\\msnp\\AppData\\Local\\pypoetry\\Cache\\virtualenvs\\kaggle-agent-poet-2ai3UW1A-py3.12\\Lib\\site-packages\\xgboost\\core.py:158: UserWarning: [14:59:02] WARNING: C:\\buildkite-agent\\builds\\buildkite-windows-cpu-autoscaling-group-i-0015a694724fa8361-1\\xgboost\\xgboost-ci-windows\\src\\learner.cc:740: \n",
      "Parameters: { \"use_label_encoder\" } are not used.\n",
      "\n",
      "  warnings.warn(smsg, UserWarning)\n",
      "C:\\Users\\msnp\\AppData\\Local\\pypoetry\\Cache\\virtualenvs\\kaggle-agent-poet-2ai3UW1A-py3.12\\Lib\\site-packages\\xgboost\\core.py:158: UserWarning: [14:59:03] WARNING: C:\\buildkite-agent\\builds\\buildkite-windows-cpu-autoscaling-group-i-0015a694724fa8361-1\\xgboost\\xgboost-ci-windows\\src\\learner.cc:740: \n",
      "Parameters: { \"use_label_encoder\" } are not used.\n",
      "\n",
      "  warnings.warn(smsg, UserWarning)\n"
     ]
    },
    {
     "name": "stderr",
     "output_type": "stream",
     "text": [
      "C:\\Users\\msnp\\AppData\\Local\\pypoetry\\Cache\\virtualenvs\\kaggle-agent-poet-2ai3UW1A-py3.12\\Lib\\site-packages\\xgboost\\core.py:158: UserWarning: [14:59:03] WARNING: C:\\buildkite-agent\\builds\\buildkite-windows-cpu-autoscaling-group-i-0015a694724fa8361-1\\xgboost\\xgboost-ci-windows\\src\\learner.cc:740: \n",
      "Parameters: { \"use_label_encoder\" } are not used.\n",
      "\n",
      "  warnings.warn(smsg, UserWarning)\n"
     ]
    },
    {
     "name": "stderr",
     "output_type": "stream",
     "text": [
      "C:\\Users\\msnp\\AppData\\Local\\pypoetry\\Cache\\virtualenvs\\kaggle-agent-poet-2ai3UW1A-py3.12\\Lib\\site-packages\\xgboost\\core.py:158: UserWarning: [14:59:03] WARNING: C:\\buildkite-agent\\builds\\buildkite-windows-cpu-autoscaling-group-i-0015a694724fa8361-1\\xgboost\\xgboost-ci-windows\\src\\learner.cc:740: \n",
      "Parameters: { \"use_label_encoder\" } are not used.\n",
      "\n",
      "  warnings.warn(smsg, UserWarning)\n"
     ]
    },
    {
     "name": "stderr",
     "output_type": "stream",
     "text": [
      "C:\\Users\\msnp\\AppData\\Local\\pypoetry\\Cache\\virtualenvs\\kaggle-agent-poet-2ai3UW1A-py3.12\\Lib\\site-packages\\xgboost\\core.py:158: UserWarning: [14:59:03] WARNING: C:\\buildkite-agent\\builds\\buildkite-windows-cpu-autoscaling-group-i-0015a694724fa8361-1\\xgboost\\xgboost-ci-windows\\src\\learner.cc:740: \n",
      "Parameters: { \"use_label_encoder\" } are not used.\n",
      "\n",
      "  warnings.warn(smsg, UserWarning)\n"
     ]
    },
    {
     "name": "stderr",
     "output_type": "stream",
     "text": [
      "C:\\Users\\msnp\\AppData\\Local\\pypoetry\\Cache\\virtualenvs\\kaggle-agent-poet-2ai3UW1A-py3.12\\Lib\\site-packages\\xgboost\\core.py:158: UserWarning: [14:59:04] WARNING: C:\\buildkite-agent\\builds\\buildkite-windows-cpu-autoscaling-group-i-0015a694724fa8361-1\\xgboost\\xgboost-ci-windows\\src\\learner.cc:740: \n",
      "Parameters: { \"use_label_encoder\" } are not used.\n",
      "\n",
      "  warnings.warn(smsg, UserWarning)\n"
     ]
    },
    {
     "name": "stderr",
     "output_type": "stream",
     "text": [
      "C:\\Users\\msnp\\AppData\\Local\\pypoetry\\Cache\\virtualenvs\\kaggle-agent-poet-2ai3UW1A-py3.12\\Lib\\site-packages\\xgboost\\core.py:158: UserWarning: [14:59:04] WARNING: C:\\buildkite-agent\\builds\\buildkite-windows-cpu-autoscaling-group-i-0015a694724fa8361-1\\xgboost\\xgboost-ci-windows\\src\\learner.cc:740: \n",
      "Parameters: { \"use_label_encoder\" } are not used.\n",
      "\n",
      "  warnings.warn(smsg, UserWarning)\n"
     ]
    },
    {
     "name": "stderr",
     "output_type": "stream",
     "text": [
      "C:\\Users\\msnp\\AppData\\Local\\pypoetry\\Cache\\virtualenvs\\kaggle-agent-poet-2ai3UW1A-py3.12\\Lib\\site-packages\\xgboost\\core.py:158: UserWarning: [14:59:04] WARNING: C:\\buildkite-agent\\builds\\buildkite-windows-cpu-autoscaling-group-i-0015a694724fa8361-1\\xgboost\\xgboost-ci-windows\\src\\learner.cc:740: \n",
      "Parameters: { \"use_label_encoder\" } are not used.\n",
      "\n",
      "  warnings.warn(smsg, UserWarning)\n"
     ]
    },
    {
     "name": "stderr",
     "output_type": "stream",
     "text": [
      "C:\\Users\\msnp\\AppData\\Local\\pypoetry\\Cache\\virtualenvs\\kaggle-agent-poet-2ai3UW1A-py3.12\\Lib\\site-packages\\xgboost\\core.py:158: UserWarning: [14:59:05] WARNING: C:\\buildkite-agent\\builds\\buildkite-windows-cpu-autoscaling-group-i-0015a694724fa8361-1\\xgboost\\xgboost-ci-windows\\src\\learner.cc:740: \n",
      "Parameters: { \"use_label_encoder\" } are not used.\n",
      "\n",
      "  warnings.warn(smsg, UserWarning)\n"
     ]
    },
    {
     "name": "stderr",
     "output_type": "stream",
     "text": [
      "C:\\Users\\msnp\\AppData\\Local\\pypoetry\\Cache\\virtualenvs\\kaggle-agent-poet-2ai3UW1A-py3.12\\Lib\\site-packages\\xgboost\\core.py:158: UserWarning: [14:59:05] WARNING: C:\\buildkite-agent\\builds\\buildkite-windows-cpu-autoscaling-group-i-0015a694724fa8361-1\\xgboost\\xgboost-ci-windows\\src\\learner.cc:740: \n",
      "Parameters: { \"use_label_encoder\" } are not used.\n",
      "\n",
      "  warnings.warn(smsg, UserWarning)\n"
     ]
    },
    {
     "name": "stderr",
     "output_type": "stream",
     "text": [
      "C:\\Users\\msnp\\AppData\\Local\\pypoetry\\Cache\\virtualenvs\\kaggle-agent-poet-2ai3UW1A-py3.12\\Lib\\site-packages\\xgboost\\core.py:158: UserWarning: [14:59:06] WARNING: C:\\buildkite-agent\\builds\\buildkite-windows-cpu-autoscaling-group-i-0015a694724fa8361-1\\xgboost\\xgboost-ci-windows\\src\\learner.cc:740: \n",
      "Parameters: { \"use_label_encoder\" } are not used.\n",
      "\n",
      "  warnings.warn(smsg, UserWarning)\n"
     ]
    },
    {
     "name": "stderr",
     "output_type": "stream",
     "text": [
      "C:\\Users\\msnp\\AppData\\Local\\pypoetry\\Cache\\virtualenvs\\kaggle-agent-poet-2ai3UW1A-py3.12\\Lib\\site-packages\\xgboost\\core.py:158: UserWarning: [14:59:06] WARNING: C:\\buildkite-agent\\builds\\buildkite-windows-cpu-autoscaling-group-i-0015a694724fa8361-1\\xgboost\\xgboost-ci-windows\\src\\learner.cc:740: \n",
      "Parameters: { \"use_label_encoder\" } are not used.\n",
      "\n",
      "  warnings.warn(smsg, UserWarning)\n",
      "C:\\Users\\msnp\\AppData\\Local\\pypoetry\\Cache\\virtualenvs\\kaggle-agent-poet-2ai3UW1A-py3.12\\Lib\\site-packages\\xgboost\\core.py:158: UserWarning: [14:59:06] WARNING: C:\\buildkite-agent\\builds\\buildkite-windows-cpu-autoscaling-group-i-0015a694724fa8361-1\\xgboost\\xgboost-ci-windows\\src\\learner.cc:740: \n",
      "Parameters: { \"use_label_encoder\" } are not used.\n",
      "\n",
      "  warnings.warn(smsg, UserWarning)\n",
      "C:\\Users\\msnp\\AppData\\Local\\pypoetry\\Cache\\virtualenvs\\kaggle-agent-poet-2ai3UW1A-py3.12\\Lib\\site-packages\\xgboost\\core.py:158: UserWarning: [14:59:07] WARNING: C:\\buildkite-agent\\builds\\buildkite-windows-cpu-autoscaling-group-i-0015a694724fa8361-1\\xgboost\\xgboost-ci-windows\\src\\learner.cc:740: \n",
      "Parameters: { \"use_label_encoder\" } are not used.\n",
      "\n",
      "  warnings.warn(smsg, UserWarning)\n"
     ]
    },
    {
     "name": "stderr",
     "output_type": "stream",
     "text": [
      "C:\\Users\\msnp\\AppData\\Local\\pypoetry\\Cache\\virtualenvs\\kaggle-agent-poet-2ai3UW1A-py3.12\\Lib\\site-packages\\xgboost\\core.py:158: UserWarning: [14:59:07] WARNING: C:\\buildkite-agent\\builds\\buildkite-windows-cpu-autoscaling-group-i-0015a694724fa8361-1\\xgboost\\xgboost-ci-windows\\src\\learner.cc:740: \n",
      "Parameters: { \"use_label_encoder\" } are not used.\n",
      "\n",
      "  warnings.warn(smsg, UserWarning)\n",
      "C:\\Users\\msnp\\AppData\\Local\\pypoetry\\Cache\\virtualenvs\\kaggle-agent-poet-2ai3UW1A-py3.12\\Lib\\site-packages\\xgboost\\core.py:158: UserWarning: [14:59:07] WARNING: C:\\buildkite-agent\\builds\\buildkite-windows-cpu-autoscaling-group-i-0015a694724fa8361-1\\xgboost\\xgboost-ci-windows\\src\\learner.cc:740: \n",
      "Parameters: { \"use_label_encoder\" } are not used.\n",
      "\n",
      "  warnings.warn(smsg, UserWarning)\n"
     ]
    },
    {
     "name": "stderr",
     "output_type": "stream",
     "text": [
      "C:\\Users\\msnp\\AppData\\Local\\pypoetry\\Cache\\virtualenvs\\kaggle-agent-poet-2ai3UW1A-py3.12\\Lib\\site-packages\\xgboost\\core.py:158: UserWarning: [14:59:07] WARNING: C:\\buildkite-agent\\builds\\buildkite-windows-cpu-autoscaling-group-i-0015a694724fa8361-1\\xgboost\\xgboost-ci-windows\\src\\learner.cc:740: \n",
      "Parameters: { \"use_label_encoder\" } are not used.\n",
      "\n",
      "  warnings.warn(smsg, UserWarning)\n",
      "C:\\Users\\msnp\\AppData\\Local\\pypoetry\\Cache\\virtualenvs\\kaggle-agent-poet-2ai3UW1A-py3.12\\Lib\\site-packages\\xgboost\\core.py:158: UserWarning: [14:59:07] WARNING: C:\\buildkite-agent\\builds\\buildkite-windows-cpu-autoscaling-group-i-0015a694724fa8361-1\\xgboost\\xgboost-ci-windows\\src\\learner.cc:740: \n",
      "Parameters: { \"use_label_encoder\" } are not used.\n",
      "\n",
      "  warnings.warn(smsg, UserWarning)\n"
     ]
    },
    {
     "name": "stderr",
     "output_type": "stream",
     "text": [
      "C:\\Users\\msnp\\AppData\\Local\\pypoetry\\Cache\\virtualenvs\\kaggle-agent-poet-2ai3UW1A-py3.12\\Lib\\site-packages\\xgboost\\core.py:158: UserWarning: [14:59:07] WARNING: C:\\buildkite-agent\\builds\\buildkite-windows-cpu-autoscaling-group-i-0015a694724fa8361-1\\xgboost\\xgboost-ci-windows\\src\\learner.cc:740: \n",
      "Parameters: { \"use_label_encoder\" } are not used.\n",
      "\n",
      "  warnings.warn(smsg, UserWarning)\n",
      "C:\\Users\\msnp\\AppData\\Local\\pypoetry\\Cache\\virtualenvs\\kaggle-agent-poet-2ai3UW1A-py3.12\\Lib\\site-packages\\xgboost\\core.py:158: UserWarning: [14:59:08] WARNING: C:\\buildkite-agent\\builds\\buildkite-windows-cpu-autoscaling-group-i-0015a694724fa8361-1\\xgboost\\xgboost-ci-windows\\src\\learner.cc:740: \n",
      "Parameters: { \"use_label_encoder\" } are not used.\n",
      "\n",
      "  warnings.warn(smsg, UserWarning)\n"
     ]
    },
    {
     "name": "stderr",
     "output_type": "stream",
     "text": [
      "C:\\Users\\msnp\\AppData\\Local\\pypoetry\\Cache\\virtualenvs\\kaggle-agent-poet-2ai3UW1A-py3.12\\Lib\\site-packages\\xgboost\\core.py:158: UserWarning: [14:59:08] WARNING: C:\\buildkite-agent\\builds\\buildkite-windows-cpu-autoscaling-group-i-0015a694724fa8361-1\\xgboost\\xgboost-ci-windows\\src\\learner.cc:740: \n",
      "Parameters: { \"use_label_encoder\" } are not used.\n",
      "\n",
      "  warnings.warn(smsg, UserWarning)\n"
     ]
    },
    {
     "name": "stderr",
     "output_type": "stream",
     "text": [
      "C:\\Users\\msnp\\AppData\\Local\\pypoetry\\Cache\\virtualenvs\\kaggle-agent-poet-2ai3UW1A-py3.12\\Lib\\site-packages\\xgboost\\core.py:158: UserWarning: [14:59:08] WARNING: C:\\buildkite-agent\\builds\\buildkite-windows-cpu-autoscaling-group-i-0015a694724fa8361-1\\xgboost\\xgboost-ci-windows\\src\\learner.cc:740: \n",
      "Parameters: { \"use_label_encoder\" } are not used.\n",
      "\n",
      "  warnings.warn(smsg, UserWarning)\n"
     ]
    },
    {
     "name": "stderr",
     "output_type": "stream",
     "text": [
      "C:\\Users\\msnp\\AppData\\Local\\pypoetry\\Cache\\virtualenvs\\kaggle-agent-poet-2ai3UW1A-py3.12\\Lib\\site-packages\\xgboost\\core.py:158: UserWarning: [14:59:08] WARNING: C:\\buildkite-agent\\builds\\buildkite-windows-cpu-autoscaling-group-i-0015a694724fa8361-1\\xgboost\\xgboost-ci-windows\\src\\learner.cc:740: \n",
      "Parameters: { \"use_label_encoder\" } are not used.\n",
      "\n",
      "  warnings.warn(smsg, UserWarning)\n"
     ]
    },
    {
     "name": "stderr",
     "output_type": "stream",
     "text": [
      "C:\\Users\\msnp\\AppData\\Local\\pypoetry\\Cache\\virtualenvs\\kaggle-agent-poet-2ai3UW1A-py3.12\\Lib\\site-packages\\xgboost\\core.py:158: UserWarning: [14:59:09] WARNING: C:\\buildkite-agent\\builds\\buildkite-windows-cpu-autoscaling-group-i-0015a694724fa8361-1\\xgboost\\xgboost-ci-windows\\src\\learner.cc:740: \n",
      "Parameters: { \"use_label_encoder\" } are not used.\n",
      "\n",
      "  warnings.warn(smsg, UserWarning)\n"
     ]
    },
    {
     "name": "stderr",
     "output_type": "stream",
     "text": [
      "C:\\Users\\msnp\\AppData\\Local\\pypoetry\\Cache\\virtualenvs\\kaggle-agent-poet-2ai3UW1A-py3.12\\Lib\\site-packages\\xgboost\\core.py:158: UserWarning: [14:59:09] WARNING: C:\\buildkite-agent\\builds\\buildkite-windows-cpu-autoscaling-group-i-0015a694724fa8361-1\\xgboost\\xgboost-ci-windows\\src\\learner.cc:740: \n",
      "Parameters: { \"use_label_encoder\" } are not used.\n",
      "\n",
      "  warnings.warn(smsg, UserWarning)\n"
     ]
    },
    {
     "name": "stderr",
     "output_type": "stream",
     "text": [
      "C:\\Users\\msnp\\AppData\\Local\\pypoetry\\Cache\\virtualenvs\\kaggle-agent-poet-2ai3UW1A-py3.12\\Lib\\site-packages\\xgboost\\core.py:158: UserWarning: [14:59:09] WARNING: C:\\buildkite-agent\\builds\\buildkite-windows-cpu-autoscaling-group-i-0015a694724fa8361-1\\xgboost\\xgboost-ci-windows\\src\\learner.cc:740: \n",
      "Parameters: { \"use_label_encoder\" } are not used.\n",
      "\n",
      "  warnings.warn(smsg, UserWarning)\n"
     ]
    },
    {
     "name": "stderr",
     "output_type": "stream",
     "text": [
      "C:\\Users\\msnp\\AppData\\Local\\pypoetry\\Cache\\virtualenvs\\kaggle-agent-poet-2ai3UW1A-py3.12\\Lib\\site-packages\\xgboost\\core.py:158: UserWarning: [14:59:10] WARNING: C:\\buildkite-agent\\builds\\buildkite-windows-cpu-autoscaling-group-i-0015a694724fa8361-1\\xgboost\\xgboost-ci-windows\\src\\learner.cc:740: \n",
      "Parameters: { \"use_label_encoder\" } are not used.\n",
      "\n",
      "  warnings.warn(smsg, UserWarning)\n"
     ]
    },
    {
     "name": "stderr",
     "output_type": "stream",
     "text": [
      "C:\\Users\\msnp\\AppData\\Local\\pypoetry\\Cache\\virtualenvs\\kaggle-agent-poet-2ai3UW1A-py3.12\\Lib\\site-packages\\xgboost\\core.py:158: UserWarning: [14:59:10] WARNING: C:\\buildkite-agent\\builds\\buildkite-windows-cpu-autoscaling-group-i-0015a694724fa8361-1\\xgboost\\xgboost-ci-windows\\src\\learner.cc:740: \n",
      "Parameters: { \"use_label_encoder\" } are not used.\n",
      "\n",
      "  warnings.warn(smsg, UserWarning)\n"
     ]
    },
    {
     "name": "stderr",
     "output_type": "stream",
     "text": [
      "C:\\Users\\msnp\\AppData\\Local\\pypoetry\\Cache\\virtualenvs\\kaggle-agent-poet-2ai3UW1A-py3.12\\Lib\\site-packages\\xgboost\\core.py:158: UserWarning: [14:59:11] WARNING: C:\\buildkite-agent\\builds\\buildkite-windows-cpu-autoscaling-group-i-0015a694724fa8361-1\\xgboost\\xgboost-ci-windows\\src\\learner.cc:740: \n",
      "Parameters: { \"use_label_encoder\" } are not used.\n",
      "\n",
      "  warnings.warn(smsg, UserWarning)\n"
     ]
    },
    {
     "name": "stderr",
     "output_type": "stream",
     "text": [
      "C:\\Users\\msnp\\AppData\\Local\\pypoetry\\Cache\\virtualenvs\\kaggle-agent-poet-2ai3UW1A-py3.12\\Lib\\site-packages\\xgboost\\core.py:158: UserWarning: [14:59:11] WARNING: C:\\buildkite-agent\\builds\\buildkite-windows-cpu-autoscaling-group-i-0015a694724fa8361-1\\xgboost\\xgboost-ci-windows\\src\\learner.cc:740: \n",
      "Parameters: { \"use_label_encoder\" } are not used.\n",
      "\n",
      "  warnings.warn(smsg, UserWarning)\n"
     ]
    },
    {
     "name": "stdout",
     "output_type": "stream",
     "text": [
      "Submission file saved as 'submission.csv'.\n"
     ]
    }
   ],
   "source": [
    "import pandas as pd\n",
    "import numpy as np\n",
    "from sklearn.impute import SimpleImputer\n",
    "from sklearn.preprocessing import OneHotEncoder, StandardScaler\n",
    "from sklearn.compose import ColumnTransformer\n",
    "from sklearn.pipeline import Pipeline\n",
    "from sklearn.model_selection import train_test_split, GridSearchCV\n",
    "from xgboost import XGBClassifier\n",
    "from sklearn.metrics import accuracy_score\n",
    "\n",
    "# Load the datasets\n",
    "train_df = pd.read_csv(\"./input/train.csv\")\n",
    "test_df = pd.read_csv(\"./input/test.csv\")\n",
    "\n",
    "# Define the target variable and features\n",
    "target = \"Transported\"\n",
    "features = train_df.columns.drop([target, \"PassengerId\", \"Name\"])\n",
    "\n",
    "# Identify categorical and numerical columns\n",
    "categorical_cols = [\"HomePlanet\", \"CryoSleep\", \"Cabin\", \"Destination\", \"VIP\"]\n",
    "numerical_cols = [\"Age\", \"RoomService\", \"FoodCourt\", \"ShoppingMall\", \"Spa\", \"VRDeck\"]\n",
    "\n",
    "# Preprocessing pipeline\n",
    "preprocessor = ColumnTransformer(\n",
    "    transformers=[\n",
    "        (\n",
    "            \"num\",\n",
    "            Pipeline(\n",
    "                steps=[\n",
    "                    (\"imputer\", SimpleImputer(strategy=\"mean\")),\n",
    "                    (\"scaler\", StandardScaler()),\n",
    "                ]\n",
    "            ),\n",
    "            numerical_cols,\n",
    "        ),\n",
    "        (\n",
    "            \"cat\",\n",
    "            Pipeline(\n",
    "                steps=[\n",
    "                    (\"imputer\", SimpleImputer(strategy=\"most_frequent\")),\n",
    "                    (\"encoder\", OneHotEncoder(handle_unknown=\"ignore\")),\n",
    "                ]\n",
    "            ),\n",
    "            categorical_cols,\n",
    "        ),\n",
    "    ]\n",
    ")\n",
    "\n",
    "# Fit and transform the training data\n",
    "X_train = preprocessor.fit_transform(train_df[features])\n",
    "y_train = train_df[target]\n",
    "\n",
    "# Transform the test data\n",
    "X_test = preprocessor.transform(test_df[features])\n",
    "\n",
    "# Hyperparameter tuning for XGBoost (if not already done)\n",
    "param_grid = {\n",
    "    \"n_estimators\": [100, 200],\n",
    "    \"max_depth\": [3, 5, 7],\n",
    "    \"learning_rate\": [0.01, 0.1, 0.2],\n",
    "}\n",
    "\n",
    "model = XGBClassifier(use_label_encoder=False, eval_metric=\"logloss\")\n",
    "grid_search = GridSearchCV(model, param_grid, cv=3, scoring=\"accuracy\", verbose=1)\n",
    "grid_search.fit(X_train, y_train)\n",
    "\n",
    "# Best model from grid search\n",
    "best_model = grid_search.best_estimator_\n",
    "\n",
    "# Make predictions on the test set\n",
    "test_predictions = best_model.predict(X_test)\n",
    "\n",
    "# Prepare submission DataFrame\n",
    "submission_df = pd.DataFrame(\n",
    "    {\"PassengerId\": test_df[\"PassengerId\"], \"Transported\": test_predictions}\n",
    ")\n",
    "\n",
    "# Save the submission file\n",
    "submission_df.to_csv(\"submission.csv\", index=False)\n",
    "print(\"Submission file saved as 'submission.csv'.\")"
   ]
  },
  {
   "cell_type": "code",
   "execution_count": null,
   "id": "1e735664",
   "metadata": {},
   "outputs": [
    {
     "name": "stdout",
     "output_type": "stream",
     "text": [
      "Fitting 3 folds for each of 18 candidates, totalling 54 fits\n"
     ]
    },
    {
     "name": "stderr",
     "output_type": "stream",
     "text": [
      "C:\\Users\\msnp\\AppData\\Local\\pypoetry\\Cache\\virtualenvs\\kaggle-agent-poet-2ai3UW1A-py3.12\\Lib\\site-packages\\xgboost\\core.py:158: UserWarning: [14:59:46] WARNING: C:\\buildkite-agent\\builds\\buildkite-windows-cpu-autoscaling-group-i-0015a694724fa8361-1\\xgboost\\xgboost-ci-windows\\src\\learner.cc:740: \n",
      "Parameters: { \"use_label_encoder\" } are not used.\n",
      "\n",
      "  warnings.warn(smsg, UserWarning)\n",
      "C:\\Users\\msnp\\AppData\\Local\\pypoetry\\Cache\\virtualenvs\\kaggle-agent-poet-2ai3UW1A-py3.12\\Lib\\site-packages\\xgboost\\core.py:158: UserWarning: [14:59:47] WARNING: C:\\buildkite-agent\\builds\\buildkite-windows-cpu-autoscaling-group-i-0015a694724fa8361-1\\xgboost\\xgboost-ci-windows\\src\\learner.cc:740: \n",
      "Parameters: { \"use_label_encoder\" } are not used.\n",
      "\n",
      "  warnings.warn(smsg, UserWarning)\n"
     ]
    },
    {
     "name": "stderr",
     "output_type": "stream",
     "text": [
      "C:\\Users\\msnp\\AppData\\Local\\pypoetry\\Cache\\virtualenvs\\kaggle-agent-poet-2ai3UW1A-py3.12\\Lib\\site-packages\\xgboost\\core.py:158: UserWarning: [14:59:47] WARNING: C:\\buildkite-agent\\builds\\buildkite-windows-cpu-autoscaling-group-i-0015a694724fa8361-1\\xgboost\\xgboost-ci-windows\\src\\learner.cc:740: \n",
      "Parameters: { \"use_label_encoder\" } are not used.\n",
      "\n",
      "  warnings.warn(smsg, UserWarning)\n",
      "C:\\Users\\msnp\\AppData\\Local\\pypoetry\\Cache\\virtualenvs\\kaggle-agent-poet-2ai3UW1A-py3.12\\Lib\\site-packages\\xgboost\\core.py:158: UserWarning: [14:59:47] WARNING: C:\\buildkite-agent\\builds\\buildkite-windows-cpu-autoscaling-group-i-0015a694724fa8361-1\\xgboost\\xgboost-ci-windows\\src\\learner.cc:740: \n",
      "Parameters: { \"use_label_encoder\" } are not used.\n",
      "\n",
      "  warnings.warn(smsg, UserWarning)\n"
     ]
    },
    {
     "name": "stderr",
     "output_type": "stream",
     "text": [
      "C:\\Users\\msnp\\AppData\\Local\\pypoetry\\Cache\\virtualenvs\\kaggle-agent-poet-2ai3UW1A-py3.12\\Lib\\site-packages\\xgboost\\core.py:158: UserWarning: [14:59:47] WARNING: C:\\buildkite-agent\\builds\\buildkite-windows-cpu-autoscaling-group-i-0015a694724fa8361-1\\xgboost\\xgboost-ci-windows\\src\\learner.cc:740: \n",
      "Parameters: { \"use_label_encoder\" } are not used.\n",
      "\n",
      "  warnings.warn(smsg, UserWarning)\n",
      "C:\\Users\\msnp\\AppData\\Local\\pypoetry\\Cache\\virtualenvs\\kaggle-agent-poet-2ai3UW1A-py3.12\\Lib\\site-packages\\xgboost\\core.py:158: UserWarning: [14:59:47] WARNING: C:\\buildkite-agent\\builds\\buildkite-windows-cpu-autoscaling-group-i-0015a694724fa8361-1\\xgboost\\xgboost-ci-windows\\src\\learner.cc:740: \n",
      "Parameters: { \"use_label_encoder\" } are not used.\n",
      "\n",
      "  warnings.warn(smsg, UserWarning)\n"
     ]
    },
    {
     "name": "stderr",
     "output_type": "stream",
     "text": [
      "C:\\Users\\msnp\\AppData\\Local\\pypoetry\\Cache\\virtualenvs\\kaggle-agent-poet-2ai3UW1A-py3.12\\Lib\\site-packages\\xgboost\\core.py:158: UserWarning: [14:59:47] WARNING: C:\\buildkite-agent\\builds\\buildkite-windows-cpu-autoscaling-group-i-0015a694724fa8361-1\\xgboost\\xgboost-ci-windows\\src\\learner.cc:740: \n",
      "Parameters: { \"use_label_encoder\" } are not used.\n",
      "\n",
      "  warnings.warn(smsg, UserWarning)\n",
      "C:\\Users\\msnp\\AppData\\Local\\pypoetry\\Cache\\virtualenvs\\kaggle-agent-poet-2ai3UW1A-py3.12\\Lib\\site-packages\\xgboost\\core.py:158: UserWarning: [14:59:48] WARNING: C:\\buildkite-agent\\builds\\buildkite-windows-cpu-autoscaling-group-i-0015a694724fa8361-1\\xgboost\\xgboost-ci-windows\\src\\learner.cc:740: \n",
      "Parameters: { \"use_label_encoder\" } are not used.\n",
      "\n",
      "  warnings.warn(smsg, UserWarning)\n"
     ]
    },
    {
     "name": "stderr",
     "output_type": "stream",
     "text": [
      "C:\\Users\\msnp\\AppData\\Local\\pypoetry\\Cache\\virtualenvs\\kaggle-agent-poet-2ai3UW1A-py3.12\\Lib\\site-packages\\xgboost\\core.py:158: UserWarning: [14:59:48] WARNING: C:\\buildkite-agent\\builds\\buildkite-windows-cpu-autoscaling-group-i-0015a694724fa8361-1\\xgboost\\xgboost-ci-windows\\src\\learner.cc:740: \n",
      "Parameters: { \"use_label_encoder\" } are not used.\n",
      "\n",
      "  warnings.warn(smsg, UserWarning)\n"
     ]
    },
    {
     "name": "stderr",
     "output_type": "stream",
     "text": [
      "C:\\Users\\msnp\\AppData\\Local\\pypoetry\\Cache\\virtualenvs\\kaggle-agent-poet-2ai3UW1A-py3.12\\Lib\\site-packages\\xgboost\\core.py:158: UserWarning: [14:59:48] WARNING: C:\\buildkite-agent\\builds\\buildkite-windows-cpu-autoscaling-group-i-0015a694724fa8361-1\\xgboost\\xgboost-ci-windows\\src\\learner.cc:740: \n",
      "Parameters: { \"use_label_encoder\" } are not used.\n",
      "\n",
      "  warnings.warn(smsg, UserWarning)\n"
     ]
    },
    {
     "name": "stderr",
     "output_type": "stream",
     "text": [
      "C:\\Users\\msnp\\AppData\\Local\\pypoetry\\Cache\\virtualenvs\\kaggle-agent-poet-2ai3UW1A-py3.12\\Lib\\site-packages\\xgboost\\core.py:158: UserWarning: [14:59:48] WARNING: C:\\buildkite-agent\\builds\\buildkite-windows-cpu-autoscaling-group-i-0015a694724fa8361-1\\xgboost\\xgboost-ci-windows\\src\\learner.cc:740: \n",
      "Parameters: { \"use_label_encoder\" } are not used.\n",
      "\n",
      "  warnings.warn(smsg, UserWarning)\n"
     ]
    },
    {
     "name": "stderr",
     "output_type": "stream",
     "text": [
      "C:\\Users\\msnp\\AppData\\Local\\pypoetry\\Cache\\virtualenvs\\kaggle-agent-poet-2ai3UW1A-py3.12\\Lib\\site-packages\\xgboost\\core.py:158: UserWarning: [14:59:49] WARNING: C:\\buildkite-agent\\builds\\buildkite-windows-cpu-autoscaling-group-i-0015a694724fa8361-1\\xgboost\\xgboost-ci-windows\\src\\learner.cc:740: \n",
      "Parameters: { \"use_label_encoder\" } are not used.\n",
      "\n",
      "  warnings.warn(smsg, UserWarning)\n"
     ]
    },
    {
     "name": "stderr",
     "output_type": "stream",
     "text": [
      "C:\\Users\\msnp\\AppData\\Local\\pypoetry\\Cache\\virtualenvs\\kaggle-agent-poet-2ai3UW1A-py3.12\\Lib\\site-packages\\xgboost\\core.py:158: UserWarning: [14:59:49] WARNING: C:\\buildkite-agent\\builds\\buildkite-windows-cpu-autoscaling-group-i-0015a694724fa8361-1\\xgboost\\xgboost-ci-windows\\src\\learner.cc:740: \n",
      "Parameters: { \"use_label_encoder\" } are not used.\n",
      "\n",
      "  warnings.warn(smsg, UserWarning)\n"
     ]
    },
    {
     "name": "stderr",
     "output_type": "stream",
     "text": [
      "C:\\Users\\msnp\\AppData\\Local\\pypoetry\\Cache\\virtualenvs\\kaggle-agent-poet-2ai3UW1A-py3.12\\Lib\\site-packages\\xgboost\\core.py:158: UserWarning: [14:59:50] WARNING: C:\\buildkite-agent\\builds\\buildkite-windows-cpu-autoscaling-group-i-0015a694724fa8361-1\\xgboost\\xgboost-ci-windows\\src\\learner.cc:740: \n",
      "Parameters: { \"use_label_encoder\" } are not used.\n",
      "\n",
      "  warnings.warn(smsg, UserWarning)\n"
     ]
    },
    {
     "name": "stderr",
     "output_type": "stream",
     "text": [
      "C:\\Users\\msnp\\AppData\\Local\\pypoetry\\Cache\\virtualenvs\\kaggle-agent-poet-2ai3UW1A-py3.12\\Lib\\site-packages\\xgboost\\core.py:158: UserWarning: [14:59:50] WARNING: C:\\buildkite-agent\\builds\\buildkite-windows-cpu-autoscaling-group-i-0015a694724fa8361-1\\xgboost\\xgboost-ci-windows\\src\\learner.cc:740: \n",
      "Parameters: { \"use_label_encoder\" } are not used.\n",
      "\n",
      "  warnings.warn(smsg, UserWarning)\n"
     ]
    },
    {
     "name": "stderr",
     "output_type": "stream",
     "text": [
      "C:\\Users\\msnp\\AppData\\Local\\pypoetry\\Cache\\virtualenvs\\kaggle-agent-poet-2ai3UW1A-py3.12\\Lib\\site-packages\\xgboost\\core.py:158: UserWarning: [14:59:51] WARNING: C:\\buildkite-agent\\builds\\buildkite-windows-cpu-autoscaling-group-i-0015a694724fa8361-1\\xgboost\\xgboost-ci-windows\\src\\learner.cc:740: \n",
      "Parameters: { \"use_label_encoder\" } are not used.\n",
      "\n",
      "  warnings.warn(smsg, UserWarning)\n"
     ]
    },
    {
     "name": "stderr",
     "output_type": "stream",
     "text": [
      "C:\\Users\\msnp\\AppData\\Local\\pypoetry\\Cache\\virtualenvs\\kaggle-agent-poet-2ai3UW1A-py3.12\\Lib\\site-packages\\xgboost\\core.py:158: UserWarning: [14:59:52] WARNING: C:\\buildkite-agent\\builds\\buildkite-windows-cpu-autoscaling-group-i-0015a694724fa8361-1\\xgboost\\xgboost-ci-windows\\src\\learner.cc:740: \n",
      "Parameters: { \"use_label_encoder\" } are not used.\n",
      "\n",
      "  warnings.warn(smsg, UserWarning)\n"
     ]
    },
    {
     "name": "stderr",
     "output_type": "stream",
     "text": [
      "C:\\Users\\msnp\\AppData\\Local\\pypoetry\\Cache\\virtualenvs\\kaggle-agent-poet-2ai3UW1A-py3.12\\Lib\\site-packages\\xgboost\\core.py:158: UserWarning: [14:59:52] WARNING: C:\\buildkite-agent\\builds\\buildkite-windows-cpu-autoscaling-group-i-0015a694724fa8361-1\\xgboost\\xgboost-ci-windows\\src\\learner.cc:740: \n",
      "Parameters: { \"use_label_encoder\" } are not used.\n",
      "\n",
      "  warnings.warn(smsg, UserWarning)\n"
     ]
    },
    {
     "name": "stderr",
     "output_type": "stream",
     "text": [
      "C:\\Users\\msnp\\AppData\\Local\\pypoetry\\Cache\\virtualenvs\\kaggle-agent-poet-2ai3UW1A-py3.12\\Lib\\site-packages\\xgboost\\core.py:158: UserWarning: [14:59:53] WARNING: C:\\buildkite-agent\\builds\\buildkite-windows-cpu-autoscaling-group-i-0015a694724fa8361-1\\xgboost\\xgboost-ci-windows\\src\\learner.cc:740: \n",
      "Parameters: { \"use_label_encoder\" } are not used.\n",
      "\n",
      "  warnings.warn(smsg, UserWarning)\n",
      "C:\\Users\\msnp\\AppData\\Local\\pypoetry\\Cache\\virtualenvs\\kaggle-agent-poet-2ai3UW1A-py3.12\\Lib\\site-packages\\xgboost\\core.py:158: UserWarning: [14:59:53] WARNING: C:\\buildkite-agent\\builds\\buildkite-windows-cpu-autoscaling-group-i-0015a694724fa8361-1\\xgboost\\xgboost-ci-windows\\src\\learner.cc:740: \n",
      "Parameters: { \"use_label_encoder\" } are not used.\n",
      "\n",
      "  warnings.warn(smsg, UserWarning)\n"
     ]
    },
    {
     "name": "stderr",
     "output_type": "stream",
     "text": [
      "C:\\Users\\msnp\\AppData\\Local\\pypoetry\\Cache\\virtualenvs\\kaggle-agent-poet-2ai3UW1A-py3.12\\Lib\\site-packages\\xgboost\\core.py:158: UserWarning: [14:59:54] WARNING: C:\\buildkite-agent\\builds\\buildkite-windows-cpu-autoscaling-group-i-0015a694724fa8361-1\\xgboost\\xgboost-ci-windows\\src\\learner.cc:740: \n",
      "Parameters: { \"use_label_encoder\" } are not used.\n",
      "\n",
      "  warnings.warn(smsg, UserWarning)\n",
      "C:\\Users\\msnp\\AppData\\Local\\pypoetry\\Cache\\virtualenvs\\kaggle-agent-poet-2ai3UW1A-py3.12\\Lib\\site-packages\\xgboost\\core.py:158: UserWarning: [14:59:54] WARNING: C:\\buildkite-agent\\builds\\buildkite-windows-cpu-autoscaling-group-i-0015a694724fa8361-1\\xgboost\\xgboost-ci-windows\\src\\learner.cc:740: \n",
      "Parameters: { \"use_label_encoder\" } are not used.\n",
      "\n",
      "  warnings.warn(smsg, UserWarning)\n"
     ]
    },
    {
     "name": "stderr",
     "output_type": "stream",
     "text": [
      "C:\\Users\\msnp\\AppData\\Local\\pypoetry\\Cache\\virtualenvs\\kaggle-agent-poet-2ai3UW1A-py3.12\\Lib\\site-packages\\xgboost\\core.py:158: UserWarning: [14:59:54] WARNING: C:\\buildkite-agent\\builds\\buildkite-windows-cpu-autoscaling-group-i-0015a694724fa8361-1\\xgboost\\xgboost-ci-windows\\src\\learner.cc:740: \n",
      "Parameters: { \"use_label_encoder\" } are not used.\n",
      "\n",
      "  warnings.warn(smsg, UserWarning)\n",
      "C:\\Users\\msnp\\AppData\\Local\\pypoetry\\Cache\\virtualenvs\\kaggle-agent-poet-2ai3UW1A-py3.12\\Lib\\site-packages\\xgboost\\core.py:158: UserWarning: [14:59:54] WARNING: C:\\buildkite-agent\\builds\\buildkite-windows-cpu-autoscaling-group-i-0015a694724fa8361-1\\xgboost\\xgboost-ci-windows\\src\\learner.cc:740: \n",
      "Parameters: { \"use_label_encoder\" } are not used.\n",
      "\n",
      "  warnings.warn(smsg, UserWarning)\n"
     ]
    },
    {
     "name": "stderr",
     "output_type": "stream",
     "text": [
      "C:\\Users\\msnp\\AppData\\Local\\pypoetry\\Cache\\virtualenvs\\kaggle-agent-poet-2ai3UW1A-py3.12\\Lib\\site-packages\\xgboost\\core.py:158: UserWarning: [14:59:54] WARNING: C:\\buildkite-agent\\builds\\buildkite-windows-cpu-autoscaling-group-i-0015a694724fa8361-1\\xgboost\\xgboost-ci-windows\\src\\learner.cc:740: \n",
      "Parameters: { \"use_label_encoder\" } are not used.\n",
      "\n",
      "  warnings.warn(smsg, UserWarning)\n",
      "C:\\Users\\msnp\\AppData\\Local\\pypoetry\\Cache\\virtualenvs\\kaggle-agent-poet-2ai3UW1A-py3.12\\Lib\\site-packages\\xgboost\\core.py:158: UserWarning: [14:59:54] WARNING: C:\\buildkite-agent\\builds\\buildkite-windows-cpu-autoscaling-group-i-0015a694724fa8361-1\\xgboost\\xgboost-ci-windows\\src\\learner.cc:740: \n",
      "Parameters: { \"use_label_encoder\" } are not used.\n",
      "\n",
      "  warnings.warn(smsg, UserWarning)\n"
     ]
    },
    {
     "name": "stderr",
     "output_type": "stream",
     "text": [
      "C:\\Users\\msnp\\AppData\\Local\\pypoetry\\Cache\\virtualenvs\\kaggle-agent-poet-2ai3UW1A-py3.12\\Lib\\site-packages\\xgboost\\core.py:158: UserWarning: [14:59:55] WARNING: C:\\buildkite-agent\\builds\\buildkite-windows-cpu-autoscaling-group-i-0015a694724fa8361-1\\xgboost\\xgboost-ci-windows\\src\\learner.cc:740: \n",
      "Parameters: { \"use_label_encoder\" } are not used.\n",
      "\n",
      "  warnings.warn(smsg, UserWarning)\n",
      "C:\\Users\\msnp\\AppData\\Local\\pypoetry\\Cache\\virtualenvs\\kaggle-agent-poet-2ai3UW1A-py3.12\\Lib\\site-packages\\xgboost\\core.py:158: UserWarning: [14:59:55] WARNING: C:\\buildkite-agent\\builds\\buildkite-windows-cpu-autoscaling-group-i-0015a694724fa8361-1\\xgboost\\xgboost-ci-windows\\src\\learner.cc:740: \n",
      "Parameters: { \"use_label_encoder\" } are not used.\n",
      "\n",
      "  warnings.warn(smsg, UserWarning)\n"
     ]
    },
    {
     "name": "stderr",
     "output_type": "stream",
     "text": [
      "C:\\Users\\msnp\\AppData\\Local\\pypoetry\\Cache\\virtualenvs\\kaggle-agent-poet-2ai3UW1A-py3.12\\Lib\\site-packages\\xgboost\\core.py:158: UserWarning: [14:59:55] WARNING: C:\\buildkite-agent\\builds\\buildkite-windows-cpu-autoscaling-group-i-0015a694724fa8361-1\\xgboost\\xgboost-ci-windows\\src\\learner.cc:740: \n",
      "Parameters: { \"use_label_encoder\" } are not used.\n",
      "\n",
      "  warnings.warn(smsg, UserWarning)\n"
     ]
    },
    {
     "name": "stderr",
     "output_type": "stream",
     "text": [
      "C:\\Users\\msnp\\AppData\\Local\\pypoetry\\Cache\\virtualenvs\\kaggle-agent-poet-2ai3UW1A-py3.12\\Lib\\site-packages\\xgboost\\core.py:158: UserWarning: [14:59:55] WARNING: C:\\buildkite-agent\\builds\\buildkite-windows-cpu-autoscaling-group-i-0015a694724fa8361-1\\xgboost\\xgboost-ci-windows\\src\\learner.cc:740: \n",
      "Parameters: { \"use_label_encoder\" } are not used.\n",
      "\n",
      "  warnings.warn(smsg, UserWarning)\n"
     ]
    },
    {
     "name": "stderr",
     "output_type": "stream",
     "text": [
      "C:\\Users\\msnp\\AppData\\Local\\pypoetry\\Cache\\virtualenvs\\kaggle-agent-poet-2ai3UW1A-py3.12\\Lib\\site-packages\\xgboost\\core.py:158: UserWarning: [14:59:56] WARNING: C:\\buildkite-agent\\builds\\buildkite-windows-cpu-autoscaling-group-i-0015a694724fa8361-1\\xgboost\\xgboost-ci-windows\\src\\learner.cc:740: \n",
      "Parameters: { \"use_label_encoder\" } are not used.\n",
      "\n",
      "  warnings.warn(smsg, UserWarning)\n"
     ]
    },
    {
     "name": "stderr",
     "output_type": "stream",
     "text": [
      "C:\\Users\\msnp\\AppData\\Local\\pypoetry\\Cache\\virtualenvs\\kaggle-agent-poet-2ai3UW1A-py3.12\\Lib\\site-packages\\xgboost\\core.py:158: UserWarning: [14:59:56] WARNING: C:\\buildkite-agent\\builds\\buildkite-windows-cpu-autoscaling-group-i-0015a694724fa8361-1\\xgboost\\xgboost-ci-windows\\src\\learner.cc:740: \n",
      "Parameters: { \"use_label_encoder\" } are not used.\n",
      "\n",
      "  warnings.warn(smsg, UserWarning)\n"
     ]
    },
    {
     "name": "stderr",
     "output_type": "stream",
     "text": [
      "C:\\Users\\msnp\\AppData\\Local\\pypoetry\\Cache\\virtualenvs\\kaggle-agent-poet-2ai3UW1A-py3.12\\Lib\\site-packages\\xgboost\\core.py:158: UserWarning: [14:59:56] WARNING: C:\\buildkite-agent\\builds\\buildkite-windows-cpu-autoscaling-group-i-0015a694724fa8361-1\\xgboost\\xgboost-ci-windows\\src\\learner.cc:740: \n",
      "Parameters: { \"use_label_encoder\" } are not used.\n",
      "\n",
      "  warnings.warn(smsg, UserWarning)\n"
     ]
    },
    {
     "name": "stderr",
     "output_type": "stream",
     "text": [
      "C:\\Users\\msnp\\AppData\\Local\\pypoetry\\Cache\\virtualenvs\\kaggle-agent-poet-2ai3UW1A-py3.12\\Lib\\site-packages\\xgboost\\core.py:158: UserWarning: [14:59:57] WARNING: C:\\buildkite-agent\\builds\\buildkite-windows-cpu-autoscaling-group-i-0015a694724fa8361-1\\xgboost\\xgboost-ci-windows\\src\\learner.cc:740: \n",
      "Parameters: { \"use_label_encoder\" } are not used.\n",
      "\n",
      "  warnings.warn(smsg, UserWarning)\n"
     ]
    },
    {
     "name": "stderr",
     "output_type": "stream",
     "text": [
      "C:\\Users\\msnp\\AppData\\Local\\pypoetry\\Cache\\virtualenvs\\kaggle-agent-poet-2ai3UW1A-py3.12\\Lib\\site-packages\\xgboost\\core.py:158: UserWarning: [14:59:57] WARNING: C:\\buildkite-agent\\builds\\buildkite-windows-cpu-autoscaling-group-i-0015a694724fa8361-1\\xgboost\\xgboost-ci-windows\\src\\learner.cc:740: \n",
      "Parameters: { \"use_label_encoder\" } are not used.\n",
      "\n",
      "  warnings.warn(smsg, UserWarning)\n"
     ]
    },
    {
     "name": "stderr",
     "output_type": "stream",
     "text": [
      "C:\\Users\\msnp\\AppData\\Local\\pypoetry\\Cache\\virtualenvs\\kaggle-agent-poet-2ai3UW1A-py3.12\\Lib\\site-packages\\xgboost\\core.py:158: UserWarning: [14:59:58] WARNING: C:\\buildkite-agent\\builds\\buildkite-windows-cpu-autoscaling-group-i-0015a694724fa8361-1\\xgboost\\xgboost-ci-windows\\src\\learner.cc:740: \n",
      "Parameters: { \"use_label_encoder\" } are not used.\n",
      "\n",
      "  warnings.warn(smsg, UserWarning)\n"
     ]
    },
    {
     "name": "stderr",
     "output_type": "stream",
     "text": [
      "C:\\Users\\msnp\\AppData\\Local\\pypoetry\\Cache\\virtualenvs\\kaggle-agent-poet-2ai3UW1A-py3.12\\Lib\\site-packages\\xgboost\\core.py:158: UserWarning: [14:59:58] WARNING: C:\\buildkite-agent\\builds\\buildkite-windows-cpu-autoscaling-group-i-0015a694724fa8361-1\\xgboost\\xgboost-ci-windows\\src\\learner.cc:740: \n",
      "Parameters: { \"use_label_encoder\" } are not used.\n",
      "\n",
      "  warnings.warn(smsg, UserWarning)\n",
      "C:\\Users\\msnp\\AppData\\Local\\pypoetry\\Cache\\virtualenvs\\kaggle-agent-poet-2ai3UW1A-py3.12\\Lib\\site-packages\\xgboost\\core.py:158: UserWarning: [14:59:59] WARNING: C:\\buildkite-agent\\builds\\buildkite-windows-cpu-autoscaling-group-i-0015a694724fa8361-1\\xgboost\\xgboost-ci-windows\\src\\learner.cc:740: \n",
      "Parameters: { \"use_label_encoder\" } are not used.\n",
      "\n",
      "  warnings.warn(smsg, UserWarning)\n",
      "C:\\Users\\msnp\\AppData\\Local\\pypoetry\\Cache\\virtualenvs\\kaggle-agent-poet-2ai3UW1A-py3.12\\Lib\\site-packages\\xgboost\\core.py:158: UserWarning: [14:59:59] WARNING: C:\\buildkite-agent\\builds\\buildkite-windows-cpu-autoscaling-group-i-0015a694724fa8361-1\\xgboost\\xgboost-ci-windows\\src\\learner.cc:740: \n",
      "Parameters: { \"use_label_encoder\" } are not used.\n",
      "\n",
      "  warnings.warn(smsg, UserWarning)\n"
     ]
    },
    {
     "name": "stderr",
     "output_type": "stream",
     "text": [
      "C:\\Users\\msnp\\AppData\\Local\\pypoetry\\Cache\\virtualenvs\\kaggle-agent-poet-2ai3UW1A-py3.12\\Lib\\site-packages\\xgboost\\core.py:158: UserWarning: [14:59:59] WARNING: C:\\buildkite-agent\\builds\\buildkite-windows-cpu-autoscaling-group-i-0015a694724fa8361-1\\xgboost\\xgboost-ci-windows\\src\\learner.cc:740: \n",
      "Parameters: { \"use_label_encoder\" } are not used.\n",
      "\n",
      "  warnings.warn(smsg, UserWarning)\n",
      "C:\\Users\\msnp\\AppData\\Local\\pypoetry\\Cache\\virtualenvs\\kaggle-agent-poet-2ai3UW1A-py3.12\\Lib\\site-packages\\xgboost\\core.py:158: UserWarning: [14:59:59] WARNING: C:\\buildkite-agent\\builds\\buildkite-windows-cpu-autoscaling-group-i-0015a694724fa8361-1\\xgboost\\xgboost-ci-windows\\src\\learner.cc:740: \n",
      "Parameters: { \"use_label_encoder\" } are not used.\n",
      "\n",
      "  warnings.warn(smsg, UserWarning)\n"
     ]
    },
    {
     "name": "stderr",
     "output_type": "stream",
     "text": [
      "C:\\Users\\msnp\\AppData\\Local\\pypoetry\\Cache\\virtualenvs\\kaggle-agent-poet-2ai3UW1A-py3.12\\Lib\\site-packages\\xgboost\\core.py:158: UserWarning: [14:59:59] WARNING: C:\\buildkite-agent\\builds\\buildkite-windows-cpu-autoscaling-group-i-0015a694724fa8361-1\\xgboost\\xgboost-ci-windows\\src\\learner.cc:740: \n",
      "Parameters: { \"use_label_encoder\" } are not used.\n",
      "\n",
      "  warnings.warn(smsg, UserWarning)\n",
      "C:\\Users\\msnp\\AppData\\Local\\pypoetry\\Cache\\virtualenvs\\kaggle-agent-poet-2ai3UW1A-py3.12\\Lib\\site-packages\\xgboost\\core.py:158: UserWarning: [14:59:59] WARNING: C:\\buildkite-agent\\builds\\buildkite-windows-cpu-autoscaling-group-i-0015a694724fa8361-1\\xgboost\\xgboost-ci-windows\\src\\learner.cc:740: \n",
      "Parameters: { \"use_label_encoder\" } are not used.\n",
      "\n",
      "  warnings.warn(smsg, UserWarning)\n"
     ]
    },
    {
     "name": "stderr",
     "output_type": "stream",
     "text": [
      "C:\\Users\\msnp\\AppData\\Local\\pypoetry\\Cache\\virtualenvs\\kaggle-agent-poet-2ai3UW1A-py3.12\\Lib\\site-packages\\xgboost\\core.py:158: UserWarning: [14:59:59] WARNING: C:\\buildkite-agent\\builds\\buildkite-windows-cpu-autoscaling-group-i-0015a694724fa8361-1\\xgboost\\xgboost-ci-windows\\src\\learner.cc:740: \n",
      "Parameters: { \"use_label_encoder\" } are not used.\n",
      "\n",
      "  warnings.warn(smsg, UserWarning)\n",
      "C:\\Users\\msnp\\AppData\\Local\\pypoetry\\Cache\\virtualenvs\\kaggle-agent-poet-2ai3UW1A-py3.12\\Lib\\site-packages\\xgboost\\core.py:158: UserWarning: [15:00:00] WARNING: C:\\buildkite-agent\\builds\\buildkite-windows-cpu-autoscaling-group-i-0015a694724fa8361-1\\xgboost\\xgboost-ci-windows\\src\\learner.cc:740: \n",
      "Parameters: { \"use_label_encoder\" } are not used.\n",
      "\n",
      "  warnings.warn(smsg, UserWarning)\n"
     ]
    },
    {
     "name": "stderr",
     "output_type": "stream",
     "text": [
      "C:\\Users\\msnp\\AppData\\Local\\pypoetry\\Cache\\virtualenvs\\kaggle-agent-poet-2ai3UW1A-py3.12\\Lib\\site-packages\\xgboost\\core.py:158: UserWarning: [15:00:00] WARNING: C:\\buildkite-agent\\builds\\buildkite-windows-cpu-autoscaling-group-i-0015a694724fa8361-1\\xgboost\\xgboost-ci-windows\\src\\learner.cc:740: \n",
      "Parameters: { \"use_label_encoder\" } are not used.\n",
      "\n",
      "  warnings.warn(smsg, UserWarning)\n"
     ]
    },
    {
     "name": "stderr",
     "output_type": "stream",
     "text": [
      "C:\\Users\\msnp\\AppData\\Local\\pypoetry\\Cache\\virtualenvs\\kaggle-agent-poet-2ai3UW1A-py3.12\\Lib\\site-packages\\xgboost\\core.py:158: UserWarning: [15:00:00] WARNING: C:\\buildkite-agent\\builds\\buildkite-windows-cpu-autoscaling-group-i-0015a694724fa8361-1\\xgboost\\xgboost-ci-windows\\src\\learner.cc:740: \n",
      "Parameters: { \"use_label_encoder\" } are not used.\n",
      "\n",
      "  warnings.warn(smsg, UserWarning)\n"
     ]
    },
    {
     "name": "stderr",
     "output_type": "stream",
     "text": [
      "C:\\Users\\msnp\\AppData\\Local\\pypoetry\\Cache\\virtualenvs\\kaggle-agent-poet-2ai3UW1A-py3.12\\Lib\\site-packages\\xgboost\\core.py:158: UserWarning: [15:00:01] WARNING: C:\\buildkite-agent\\builds\\buildkite-windows-cpu-autoscaling-group-i-0015a694724fa8361-1\\xgboost\\xgboost-ci-windows\\src\\learner.cc:740: \n",
      "Parameters: { \"use_label_encoder\" } are not used.\n",
      "\n",
      "  warnings.warn(smsg, UserWarning)\n"
     ]
    },
    {
     "name": "stderr",
     "output_type": "stream",
     "text": [
      "C:\\Users\\msnp\\AppData\\Local\\pypoetry\\Cache\\virtualenvs\\kaggle-agent-poet-2ai3UW1A-py3.12\\Lib\\site-packages\\xgboost\\core.py:158: UserWarning: [15:00:01] WARNING: C:\\buildkite-agent\\builds\\buildkite-windows-cpu-autoscaling-group-i-0015a694724fa8361-1\\xgboost\\xgboost-ci-windows\\src\\learner.cc:740: \n",
      "Parameters: { \"use_label_encoder\" } are not used.\n",
      "\n",
      "  warnings.warn(smsg, UserWarning)\n"
     ]
    },
    {
     "name": "stderr",
     "output_type": "stream",
     "text": [
      "C:\\Users\\msnp\\AppData\\Local\\pypoetry\\Cache\\virtualenvs\\kaggle-agent-poet-2ai3UW1A-py3.12\\Lib\\site-packages\\xgboost\\core.py:158: UserWarning: [15:00:01] WARNING: C:\\buildkite-agent\\builds\\buildkite-windows-cpu-autoscaling-group-i-0015a694724fa8361-1\\xgboost\\xgboost-ci-windows\\src\\learner.cc:740: \n",
      "Parameters: { \"use_label_encoder\" } are not used.\n",
      "\n",
      "  warnings.warn(smsg, UserWarning)\n"
     ]
    },
    {
     "name": "stderr",
     "output_type": "stream",
     "text": [
      "C:\\Users\\msnp\\AppData\\Local\\pypoetry\\Cache\\virtualenvs\\kaggle-agent-poet-2ai3UW1A-py3.12\\Lib\\site-packages\\xgboost\\core.py:158: UserWarning: [15:00:02] WARNING: C:\\buildkite-agent\\builds\\buildkite-windows-cpu-autoscaling-group-i-0015a694724fa8361-1\\xgboost\\xgboost-ci-windows\\src\\learner.cc:740: \n",
      "Parameters: { \"use_label_encoder\" } are not used.\n",
      "\n",
      "  warnings.warn(smsg, UserWarning)\n"
     ]
    },
    {
     "name": "stderr",
     "output_type": "stream",
     "text": [
      "C:\\Users\\msnp\\AppData\\Local\\pypoetry\\Cache\\virtualenvs\\kaggle-agent-poet-2ai3UW1A-py3.12\\Lib\\site-packages\\xgboost\\core.py:158: UserWarning: [15:00:02] WARNING: C:\\buildkite-agent\\builds\\buildkite-windows-cpu-autoscaling-group-i-0015a694724fa8361-1\\xgboost\\xgboost-ci-windows\\src\\learner.cc:740: \n",
      "Parameters: { \"use_label_encoder\" } are not used.\n",
      "\n",
      "  warnings.warn(smsg, UserWarning)\n"
     ]
    },
    {
     "name": "stderr",
     "output_type": "stream",
     "text": [
      "C:\\Users\\msnp\\AppData\\Local\\pypoetry\\Cache\\virtualenvs\\kaggle-agent-poet-2ai3UW1A-py3.12\\Lib\\site-packages\\xgboost\\core.py:158: UserWarning: [15:00:02] WARNING: C:\\buildkite-agent\\builds\\buildkite-windows-cpu-autoscaling-group-i-0015a694724fa8361-1\\xgboost\\xgboost-ci-windows\\src\\learner.cc:740: \n",
      "Parameters: { \"use_label_encoder\" } are not used.\n",
      "\n",
      "  warnings.warn(smsg, UserWarning)\n"
     ]
    },
    {
     "name": "stderr",
     "output_type": "stream",
     "text": [
      "C:\\Users\\msnp\\AppData\\Local\\pypoetry\\Cache\\virtualenvs\\kaggle-agent-poet-2ai3UW1A-py3.12\\Lib\\site-packages\\xgboost\\core.py:158: UserWarning: [15:00:03] WARNING: C:\\buildkite-agent\\builds\\buildkite-windows-cpu-autoscaling-group-i-0015a694724fa8361-1\\xgboost\\xgboost-ci-windows\\src\\learner.cc:740: \n",
      "Parameters: { \"use_label_encoder\" } are not used.\n",
      "\n",
      "  warnings.warn(smsg, UserWarning)\n"
     ]
    },
    {
     "name": "stderr",
     "output_type": "stream",
     "text": [
      "C:\\Users\\msnp\\AppData\\Local\\pypoetry\\Cache\\virtualenvs\\kaggle-agent-poet-2ai3UW1A-py3.12\\Lib\\site-packages\\xgboost\\core.py:158: UserWarning: [15:00:04] WARNING: C:\\buildkite-agent\\builds\\buildkite-windows-cpu-autoscaling-group-i-0015a694724fa8361-1\\xgboost\\xgboost-ci-windows\\src\\learner.cc:740: \n",
      "Parameters: { \"use_label_encoder\" } are not used.\n",
      "\n",
      "  warnings.warn(smsg, UserWarning)\n"
     ]
    },
    {
     "name": "stdout",
     "output_type": "stream",
     "text": [
      "Submission file saved as 'submission.csv'.\n"
     ]
    },
    {
     "ename": "NameError",
     "evalue": "name 'functions' is not defined",
     "output_type": "error",
     "traceback": [
      "\u001b[1;31m---------------------------------------------------------------------------\u001b[0m",
      "\u001b[1;31mNameError\u001b[0m                                 Traceback (most recent call last)",
      "Cell \u001b[1;32mIn[10], line 85\u001b[0m\n\u001b[0;32m     83\u001b[0m \u001b[38;5;66;03m# Submit to Kaggle\u001b[39;00m\n\u001b[0;32m     84\u001b[0m competition_name \u001b[38;5;241m=\u001b[39m \u001b[38;5;124m\"\u001b[39m\u001b[38;5;124mspaceship-titanic\u001b[39m\u001b[38;5;124m\"\u001b[39m\n\u001b[1;32m---> 85\u001b[0m submission_result \u001b[38;5;241m=\u001b[39m \u001b[43mfunctions\u001b[49m\u001b[38;5;241m.\u001b[39msubmit_to_kaggle(\n\u001b[0;32m     86\u001b[0m     {\n\u001b[0;32m     87\u001b[0m         \u001b[38;5;124m\"\u001b[39m\u001b[38;5;124mcompetition\u001b[39m\u001b[38;5;124m\"\u001b[39m: competition_name,\n\u001b[0;32m     88\u001b[0m         \u001b[38;5;124m\"\u001b[39m\u001b[38;5;124msubmission_file\u001b[39m\u001b[38;5;124m\"\u001b[39m: submission_file_path,\n\u001b[0;32m     89\u001b[0m         \u001b[38;5;124m\"\u001b[39m\u001b[38;5;124msubmission_message\u001b[39m\u001b[38;5;124m\"\u001b[39m: \u001b[38;5;124m\"\u001b[39m\u001b[38;5;124mAutomated submission\u001b[39m\u001b[38;5;124m\"\u001b[39m,\n\u001b[0;32m     90\u001b[0m     }\n\u001b[0;32m     91\u001b[0m )\n\u001b[0;32m     93\u001b[0m \u001b[38;5;28mprint\u001b[39m(\u001b[38;5;124m\"\u001b[39m\u001b[38;5;124mSubmission result:\u001b[39m\u001b[38;5;124m\"\u001b[39m, submission_result)\n",
      "\u001b[1;31mNameError\u001b[0m: name 'functions' is not defined"
     ]
    }
   ],
   "source": [
    "import pandas as pd\n",
    "import numpy as np\n",
    "from sklearn.impute import SimpleImputer\n",
    "from sklearn.preprocessing import OneHotEncoder, StandardScaler\n",
    "from sklearn.compose import ColumnTransformer\n",
    "from sklearn.pipeline import Pipeline\n",
    "from sklearn.model_selection import train_test_split, GridSearchCV\n",
    "from xgboost import XGBClassifier\n",
    "from sklearn.metrics import accuracy_score\n",
    "\n",
    "# Load the datasets\n",
    "train_df = pd.read_csv(\"./input/train.csv\")\n",
    "test_df = pd.read_csv(\"./input/test.csv\")\n",
    "\n",
    "# Define the target variable and features\n",
    "target = \"Transported\"\n",
    "features = train_df.columns.drop([target, \"PassengerId\", \"Name\"])\n",
    "\n",
    "# Identify categorical and numerical columns\n",
    "categorical_cols = [\"HomePlanet\", \"CryoSleep\", \"Cabin\", \"Destination\", \"VIP\"]\n",
    "numerical_cols = [\"Age\", \"RoomService\", \"FoodCourt\", \"ShoppingMall\", \"Spa\", \"VRDeck\"]\n",
    "\n",
    "# Preprocessing pipeline\n",
    "preprocessor = ColumnTransformer(\n",
    "    transformers=[\n",
    "        (\n",
    "            \"num\",\n",
    "            Pipeline(\n",
    "                steps=[\n",
    "                    (\"imputer\", SimpleImputer(strategy=\"mean\")),\n",
    "                    (\"scaler\", StandardScaler()),\n",
    "                ]\n",
    "            ),\n",
    "            numerical_cols,\n",
    "        ),\n",
    "        (\n",
    "            \"cat\",\n",
    "            Pipeline(\n",
    "                steps=[\n",
    "                    (\"imputer\", SimpleImputer(strategy=\"most_frequent\")),\n",
    "                    (\"encoder\", OneHotEncoder(handle_unknown=\"ignore\")),\n",
    "                ]\n",
    "            ),\n",
    "            categorical_cols,\n",
    "        ),\n",
    "    ]\n",
    ")\n",
    "\n",
    "# Fit and transform the training data\n",
    "X = preprocessor.fit_transform(train_df[features])\n",
    "y = train_df[target]\n",
    "\n",
    "# Hyperparameter tuning for XGBoost\n",
    "param_grid = {\n",
    "    \"n_estimators\": [100, 200],\n",
    "    \"max_depth\": [3, 5, 7],\n",
    "    \"learning_rate\": [0.01, 0.1, 0.2],\n",
    "}\n",
    "\n",
    "model = XGBClassifier(use_label_encoder=False, eval_metric=\"logloss\")\n",
    "grid_search = GridSearchCV(model, param_grid, cv=3, scoring=\"accuracy\", verbose=1)\n",
    "grid_search.fit(X, y)\n",
    "\n",
    "# Best model from grid search\n",
    "best_model = grid_search.best_estimator_\n",
    "\n",
    "# Transform the test data\n",
    "X_test = preprocessor.transform(test_df[features])\n",
    "\n",
    "# Make predictions on the test set\n",
    "test_predictions = best_model.predict(X_test)\n",
    "\n",
    "# Prepare submission DataFrame\n",
    "submission_df = pd.DataFrame(\n",
    "    {\"PassengerId\": test_df[\"PassengerId\"], \"Transported\": test_predictions}\n",
    ")\n",
    "\n",
    "# Save the submission file\n",
    "submission_file_path = \"submission.csv\"\n",
    "submission_df.to_csv(submission_file_path, index=False)\n",
    "print(\"Submission file saved as 'submission.csv'.\")\n",
    "\n",
    "# Submit to Kaggle\n",
    "competition_name = \"spaceship-titanic\"\n",
    "submission_result = functions.submit_to_kaggle(\n",
    "    {\n",
    "        \"competition\": competition_name,\n",
    "        \"submission_file\": submission_file_path,\n",
    "        \"submission_message\": \"Automated submission\",\n",
    "    }\n",
    ")\n",
    "\n",
    "print(\"Submission result:\", submission_result)"
   ]
  }
 ],
 "metadata": {},
 "nbformat": 4,
 "nbformat_minor": 5
}
